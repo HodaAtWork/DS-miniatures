{
 "cells": [
  {
   "cell_type": "markdown",
   "metadata": {},
   "source": [
    "# MRjob, Python's interface to Hadoop\n",
    "This notebook shows two well-known, simple examples of the way Python connects to Hadoop through `mrjob`. Of course mrjob is not Mister Job but stands for MapReduce job. MapReduce is a framework to handle very large datasets (order of magnitude in petabytes or more) in parallel and on nodes of computers. Originally introduced by Google, the open source Java implementation Hadoop is from Apache. MRjob is the Python interface to Hadoop.\n",
    "<br>\n",
    "## MRjob in a nutshell\n",
    "MapReduce is about the simplest way you can break down a big job into little pieces. Basically, mappers read lines of input and spit out tuples of (key, value). Each key and all of its corresponding values are sent to a reducer. Per key the reducer performs some operation on the values. The mapper and reducer logic is all that must be written.\n",
    "![](data/MapReduce-Basics2.PNG)\n",
    "There is much more on this subject. See [CS109-2015 lecture 14](https://github.com/cs109/2015/blob/master/Lectures/14-Recommendations_MapReduce.pdf) and many other sources on the internet."
   ]
  },
  {
   "cell_type": "markdown",
   "metadata": {},
   "source": [
    "---\n",
    "The examples below are from CS109-2015 lecture 14. Note: back in 2015 `mrjob` coding was not possible in Jupyter Notebook. Fortunately it is now.<br>Before running the examples install `mrjob` from your Anaconda Prompt terminal as follows:\n",
    "```python\n",
    "pip install mrjob\n",
    "```\n",
    "Input files are in the `data/mrjob` directory where the output will also be redirected to."
   ]
  },
  {
   "cell_type": "markdown",
   "metadata": {},
   "source": [
    "### Word count"
   ]
  },
  {
   "cell_type": "code",
   "execution_count": 1,
   "metadata": {},
   "outputs": [
    {
     "name": "stdout",
     "output_type": "stream",
     "text": [
      "Overwriting wordcount.py\n"
     ]
    }
   ],
   "source": [
    "%%file wordcount.py\n",
    "from mrjob.job import MRJob\n",
    "\n",
    "class MrWordCount(MRJob):\n",
    "    def mapper(self, key, line):\n",
    "        for word in line.split(' '):\n",
    "            yield word.lower(),1\n",
    "    \n",
    "    def reducer(self, word, occurrences):\n",
    "        yield word, sum(occurrences)\n",
    "        \n",
    "if __name__ == '__main__':\n",
    "    MrWordCount.run()"
   ]
  },
  {
   "cell_type": "code",
   "execution_count": null,
   "metadata": {},
   "outputs": [],
   "source": [
    "!python wordcount.py < data/mrjob/wordcount.txt > data/mrjob/wordcountresult.txt\n"
   ]
  },
  {
   "cell_type": "markdown",
   "metadata": {},
   "source": [
    "### Anagram\n",
    "Two strings are anagrams if one string can be constructed by rearranging the characters in the other string using all the characters in the original string exactly once. "
   ]
  },
  {
   "cell_type": "code",
   "execution_count": 3,
   "metadata": {},
   "outputs": [
    {
     "name": "stdout",
     "output_type": "stream",
     "text": [
      "Overwriting anagram.py\n"
     ]
    }
   ],
   "source": [
    "%%file anagram.py\n",
    "from mrjob.job import MRJob\n",
    "\n",
    "class MRAnagram(MRJob):\n",
    "    def mapper(self, _, line):\n",
    "        # convert word into list of chars, sort them and convert back to string\n",
    "        letters = list(line)\n",
    "        letters.sort()\n",
    "        # key is sorted word; value regular word\n",
    "        yield letters, line\n",
    "        \n",
    "    def reducer(self, _, words):\n",
    "        # get list of words containing these letters\n",
    "        anagrams = [w for w in words]\n",
    "        # only yield results if there are >= 2 words which are anagrams of each other\n",
    "        if len(anagrams) > 1:\n",
    "            yield len(anagrams), anagrams\n",
    "            \n",
    "if __name__ == '__main__':\n",
    "    MRAnagram.run()"
   ]
  },
  {
   "cell_type": "code",
   "execution_count": null,
   "metadata": {},
   "outputs": [],
   "source": [
    "!python anagram.py < data/mrjob/anagram.txt > data/mrjob/anagramresult.txt"
   ]
  }
 ],
 "metadata": {
  "kernelspec": {
   "display_name": "Python 3",
   "language": "python",
   "name": "python3"
  },
  "language_info": {
   "codemirror_mode": {
    "name": "ipython",
    "version": 3
   },
   "file_extension": ".py",
   "mimetype": "text/x-python",
   "name": "python",
   "nbconvert_exporter": "python",
   "pygments_lexer": "ipython3",
   "version": "3.8.3"
  }
 },
 "nbformat": 4,
 "nbformat_minor": 4
}

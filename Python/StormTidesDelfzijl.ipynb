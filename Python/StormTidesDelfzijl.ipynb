{
 "cells": [
  {
   "cell_type": "markdown",
   "metadata": {},
   "source": [
    "# Storm surges since 1900 Delfzijl, NL\n",
    "\n",
    "This notebook analyses the storm surges registered since 1900 at Delfzijl, the Netherlands. As large parts of the Netherlands reside below sea level and so protected against the sea by dunes and dikes, it is interesting to analyse the data, grab for possible trends in more than a century and possibly predict future storm surges. <br><br>\n",
    "Marker in Delfzijl's main watergate to commemorate the 1962 storm surge:![](data/marker1962surgeDZ.jpg)"
   ]
  },
  {
   "cell_type": "markdown",
   "metadata": {},
   "source": [
    "## Collecting data\n",
    "Delfzijl is one of the 8 Dutch coastal stations continuously measuring the sea water level. Delfzijl, a port in the furthest north-east of the Netherlands, is chosen because of its location on the estuary of the river Ems (water impoundment), the availability of long-term tidal data and, due to gas exploration, a comparatively fast sinking soil (including the sea-bottom). So far the Delfzijl station 2 times measured tides above the national alarm code red, both in the 21st century.<br><br>\n",
    "Most of the data is available in public sources but not in an easy to use format. So I decided to make a simple dataset using data from mainly Rijkswaterstaat (the Dutch Directorate-General for Public Works and Water Management). Each row in this CSV file has the attributes:\n",
    "1. date of storm surge\n",
    "2. max registered water level above NAP (Amsterdam Ordnance Datum; approx. Mean Sea Level MSL)\n",
    "3. assigned label alarm level:  \n",
    "3.1 Yellow: >= 3.00 m above MSL. **Warn** level: all Delfzijl watergates and dike openings close at >= 3.00 m  \n",
    "3.2 Orange: >= 3.80 m above MSL. **Alarm** level  \n",
    "3.3 Red: >= 4.75 m above MSL. **National Alarm** level  \n",
    "4. remark, e.g. name of storm\n",
    "\n",
    "The publicly available data I used can be found in Rijkswaterstaat [storm surge reports](https://waterberichtgeving.rws.nl/water-en-weer/verwachtingen-water/water-en-weerverwachtingen-waternoordzee/stormvloedrapportages/stormvloedverslagen) as from 1948. Delfzijl storm surges starting from 1900 are given in some of these reports.<br>\n",
    "Note that the dataset contains yellow warning levels (>= 3.00 m) from the 1950s while before only storm surges above ***border level*** 3.34 m were reported."
   ]
  },
  {
   "cell_type": "code",
   "execution_count": 1,
   "metadata": {},
   "outputs": [],
   "source": [
    "# The %... is an iPython thing, and is not part of the Python language.\n",
    "# In this case we're just telling the plotting library to draw things on\n",
    "# the notebook, instead of on a separate window.\n",
    "%matplotlib inline \n",
    "#this line above prepares IPython notebook for working with matplotlib\n",
    "\n",
    "# See all the \"as ...\" contructs? They're just aliasing the package names.\n",
    "# That way we can call methods like plt.plot() instead of matplotlib.pyplot.plot().\n",
    "\n",
    "import numpy as np # imports a fast numerical programming library\n",
    "import scipy as sp #imports stats functions, amongst other things\n",
    "import matplotlib as mpl # this actually imports matplotlib\n",
    "import matplotlib.cm as cm #allows us easy access to colormaps\n",
    "import matplotlib.pyplot as plt #sets up plotting under plt\n",
    "import pandas as pd #lets us handle data as dataframes\n",
    "#sets up pandas table display\n",
    "pd.set_option('display.width', 500)\n",
    "pd.set_option('display.max_columns', 100)\n",
    "pd.set_option('display.notebook_repr_html', True)\n",
    "import seaborn as sns #sets up styles and gives us more plotting options\n",
    "import urllib.request\n",
    "import pickle\n",
    "import requests\n",
    "import datetime"
   ]
  },
  {
   "cell_type": "markdown",
   "metadata": {},
   "source": [
    "## Read and clean data \n",
    "Remarks are not read. A few historical sea level records before 1900 are left out."
   ]
  },
  {
   "cell_type": "code",
   "execution_count": 2,
   "metadata": {},
   "outputs": [],
   "source": [
    "def columnsToDisplay():\n",
    "    return ['date', 'm_above_NAP', 'warning_code']"
   ]
  },
  {
   "cell_type": "code",
   "execution_count": 3,
   "metadata": {},
   "outputs": [],
   "source": [
    "def columnsRenameDict():\n",
    "    return {'m_above_NAP':'meters_above_sealevel', 'warning_code':'alarm_level' }"
   ]
  },
  {
   "cell_type": "code",
   "execution_count": 4,
   "metadata": {},
   "outputs": [],
   "source": [
    "def preProcessing(df):\n",
    "    # param coerce to prevent errors caused by reading dates before pd.Timestamp.min\n",
    "    df.date=(pd.to_datetime(df.date, dayfirst=True, errors = 'coerce'))"
   ]
  },
  {
   "cell_type": "code",
   "execution_count": 5,
   "metadata": {},
   "outputs": [],
   "source": [
    "df = pd.read_csv('data/storm-tides-Delfzijl-NL.csv', usecols=columnsToDisplay())\n",
    "df.rename(columns=columnsRenameDict(), inplace=True)\n",
    "preProcessing(df)\n",
    "df.tail(20)\n",
    "dfNew=df[(df['date']>='01-01-1900') & (df['meters_above_sealevel']>=3.00)].copy()"
   ]
  },
  {
   "cell_type": "markdown",
   "metadata": {},
   "source": [
    "Some basic stuff on the dataset"
   ]
  },
  {
   "cell_type": "code",
   "execution_count": 6,
   "metadata": {},
   "outputs": [
    {
     "data": {
      "text/plain": [
       "date                     datetime64[ns]\n",
       "meters_above_sealevel           float64\n",
       "alarm_level                      object\n",
       "dtype: object"
      ]
     },
     "execution_count": 6,
     "metadata": {},
     "output_type": "execute_result"
    }
   ],
   "source": [
    "dfNew.dtypes"
   ]
  },
  {
   "cell_type": "code",
   "execution_count": 7,
   "metadata": {},
   "outputs": [
    {
     "name": "stdout",
     "output_type": "stream",
     "text": [
      "(99, 3)\n",
      "Average height (m):  3.62\n"
     ]
    }
   ],
   "source": [
    "print(dfNew.shape)\n",
    "print('Average height (m): ', round(dfNew.meters_above_sealevel.mean(),2))"
   ]
  },
  {
   "cell_type": "code",
   "execution_count": 8,
   "metadata": {},
   "outputs": [
    {
     "data": {
      "text/html": [
       "<div>\n",
       "<style scoped>\n",
       "    .dataframe tbody tr th:only-of-type {\n",
       "        vertical-align: middle;\n",
       "    }\n",
       "\n",
       "    .dataframe tbody tr th {\n",
       "        vertical-align: top;\n",
       "    }\n",
       "\n",
       "    .dataframe thead th {\n",
       "        text-align: right;\n",
       "    }\n",
       "</style>\n",
       "<table border=\"1\" class=\"dataframe\">\n",
       "  <thead>\n",
       "    <tr style=\"text-align: right;\">\n",
       "      <th></th>\n",
       "      <th>date</th>\n",
       "      <th>meters_above_sealevel</th>\n",
       "      <th>alarm_level</th>\n",
       "    </tr>\n",
       "  </thead>\n",
       "  <tbody>\n",
       "    <tr>\n",
       "      <th>13</th>\n",
       "      <td>2014-10-22</td>\n",
       "      <td>4.02</td>\n",
       "      <td>O</td>\n",
       "    </tr>\n",
       "    <tr>\n",
       "      <th>14</th>\n",
       "      <td>2013-12-06</td>\n",
       "      <td>4.82</td>\n",
       "      <td>R</td>\n",
       "    </tr>\n",
       "    <tr>\n",
       "      <th>15</th>\n",
       "      <td>2013-12-06</td>\n",
       "      <td>4.25</td>\n",
       "      <td>O</td>\n",
       "    </tr>\n",
       "    <tr>\n",
       "      <th>18</th>\n",
       "      <td>2007-11-09</td>\n",
       "      <td>4.21</td>\n",
       "      <td>O</td>\n",
       "    </tr>\n",
       "    <tr>\n",
       "      <th>22</th>\n",
       "      <td>2006-11-01</td>\n",
       "      <td>4.83</td>\n",
       "      <td>R</td>\n",
       "    </tr>\n",
       "    <tr>\n",
       "      <th>31</th>\n",
       "      <td>1995-01-10</td>\n",
       "      <td>4.04</td>\n",
       "      <td>O</td>\n",
       "    </tr>\n",
       "    <tr>\n",
       "      <th>36</th>\n",
       "      <td>1994-01-28</td>\n",
       "      <td>4.25</td>\n",
       "      <td>O</td>\n",
       "    </tr>\n",
       "    <tr>\n",
       "      <th>58</th>\n",
       "      <td>1976-01-21</td>\n",
       "      <td>4.08</td>\n",
       "      <td>O</td>\n",
       "    </tr>\n",
       "    <tr>\n",
       "      <th>59</th>\n",
       "      <td>1976-01-04</td>\n",
       "      <td>4.35</td>\n",
       "      <td>O</td>\n",
       "    </tr>\n",
       "    <tr>\n",
       "      <th>60</th>\n",
       "      <td>1976-01-03</td>\n",
       "      <td>4.06</td>\n",
       "      <td>O</td>\n",
       "    </tr>\n",
       "    <tr>\n",
       "      <th>63</th>\n",
       "      <td>1973-11-19</td>\n",
       "      <td>4.19</td>\n",
       "      <td>O</td>\n",
       "    </tr>\n",
       "    <tr>\n",
       "      <th>75</th>\n",
       "      <td>1962-02-16</td>\n",
       "      <td>4.46</td>\n",
       "      <td>O</td>\n",
       "    </tr>\n",
       "    <tr>\n",
       "      <th>82</th>\n",
       "      <td>1944-02-04</td>\n",
       "      <td>4.48</td>\n",
       "      <td>O</td>\n",
       "    </tr>\n",
       "    <tr>\n",
       "      <th>95</th>\n",
       "      <td>1916-01-13</td>\n",
       "      <td>4.32</td>\n",
       "      <td>O</td>\n",
       "    </tr>\n",
       "    <tr>\n",
       "      <th>97</th>\n",
       "      <td>1906-03-13</td>\n",
       "      <td>4.51</td>\n",
       "      <td>O</td>\n",
       "    </tr>\n",
       "    <tr>\n",
       "      <th>100</th>\n",
       "      <td>1901-01-28</td>\n",
       "      <td>4.53</td>\n",
       "      <td>O</td>\n",
       "    </tr>\n",
       "  </tbody>\n",
       "</table>\n",
       "</div>"
      ],
      "text/plain": [
       "          date  meters_above_sealevel alarm_level\n",
       "13  2014-10-22                   4.02           O\n",
       "14  2013-12-06                   4.82           R\n",
       "15  2013-12-06                   4.25           O\n",
       "18  2007-11-09                   4.21           O\n",
       "22  2006-11-01                   4.83           R\n",
       "31  1995-01-10                   4.04           O\n",
       "36  1994-01-28                   4.25           O\n",
       "58  1976-01-21                   4.08           O\n",
       "59  1976-01-04                   4.35           O\n",
       "60  1976-01-03                   4.06           O\n",
       "63  1973-11-19                   4.19           O\n",
       "75  1962-02-16                   4.46           O\n",
       "82  1944-02-04                   4.48           O\n",
       "95  1916-01-13                   4.32           O\n",
       "97  1906-03-13                   4.51           O\n",
       "100 1901-01-28                   4.53           O"
      ]
     },
     "execution_count": 8,
     "metadata": {},
     "output_type": "execute_result"
    }
   ],
   "source": [
    "dfFourMeters=dfNew[dfNew.meters_above_sealevel >= 4.00]\n",
    "dfFourMeters"
   ]
  },
  {
   "cell_type": "code",
   "execution_count": 9,
   "metadata": {},
   "outputs": [
    {
     "name": "stdout",
     "output_type": "stream",
     "text": [
      "['O' 'R']\n",
      "Since 1900 5 from 16 surges above 4.00 m in 21st century\n"
     ]
    }
   ],
   "source": [
    "print(dfFourMeters.alarm_level.unique())\n",
    "thisCentury=dfFourMeters[dfFourMeters.date >= '2000-01-01']\n",
    "print('Since 1900', thisCentury.date.count(), 'from', dfFourMeters.date.count(), 'surges above 4.00 m in 21st century')\n"
   ]
  },
  {
   "cell_type": "markdown",
   "metadata": {},
   "source": [
    "## Exploratory data analysis\n",
    "First show the storm surge frequency over the years. Remarks to the histogram:\n",
    "* As high tide occurs twice a day, they are included in the count.\n",
    "* As from the 1950's tides between 3.00 and 3.34 are included."
   ]
  },
  {
   "cell_type": "code",
   "execution_count": 10,
   "metadata": {},
   "outputs": [
    {
     "data": {
      "image/png": "[encoded data removed]",
      "text/plain": [
       "<Figure size 864x504 with 1 Axes>"
      ]
     },
     "metadata": {
      "needs_background": "light"
     },
     "output_type": "display_data"
    }
   ],
   "source": [
    "plt.figure(figsize=(12,7))\n",
    "plt.hist(dfNew.date, bins=100, color='b')\n",
    "plt.title('Storm surge frequency Delfzijl (NL)')\n",
    "plt.xlabel('Date')\n",
    "plt.ylabel('Frequency')\n",
    "plt.show()"
   ]
  },
  {
   "cell_type": "markdown",
   "metadata": {},
   "source": [
    "Clearly storm surges do not occur each year:"
   ]
  },
  {
   "cell_type": "code",
   "execution_count": 11,
   "metadata": {},
   "outputs": [
    {
     "name": "stdout",
     "output_type": "stream",
     "text": [
      "Years without storm surges [1900, 1902, 1903, 1907, 1908, 1909, 1910, 1911, 1912, 1913, 1915, 1918, 1919, 1920, 1923, 1924, 1925, 1927, 1928, 1931, 1932, 1933, 1934, 1935, 1937, 1938, 1939, 1940, 1942, 1945, 1946, 1947, 1948, 1950, 1951, 1952, 1955, 1956, 1957, 1959, 1960, 1963, 1968, 1969, 1972, 1974, 1975, 1978, 1979, 1985, 1986, 1987, 1992, 1997, 1998, 2001, 2005, 2009, 2010, 2011, 2018, 2021]\n"
     ]
    }
   ],
   "source": [
    "noSurgesDZ=[]\n",
    "for year in range(1900, 2022):\n",
    "    if year not in set(dfNew['date'].dt.year.values):\n",
    "        noSurgesDZ.append(year)\n",
    "print('Years without storm surges', noSurgesDZ)"
   ]
  },
  {
   "cell_type": "markdown",
   "metadata": {},
   "source": [
    "Then find out the which heights above Mean Sea Level occur most. <br><br>Note: in 2002 the storm surge barrier ***Emssperrwerk*** in the river Ems at Gandersum (Germany) was put into service. When closed it has impact on the measured water levels at Delfzijl (source: Deltares, Toets- en Rekenpeilen Kust en Estuaria ten behoeve van de HR 2011)."
   ]
  },
  {
   "cell_type": "code",
   "execution_count": 12,
   "metadata": {},
   "outputs": [
    {
     "data": {
      "image/png": "[encoded data removed]",
      "text/plain": [
       "<Figure size 864x504 with 1 Axes>"
      ]
     },
     "metadata": {
      "needs_background": "light"
     },
     "output_type": "display_data"
    }
   ],
   "source": [
    "plt.figure(figsize=(12,7))\n",
    "meanHeight=df.meters_above_sealevel.mean()\n",
    "medianHeight=df.meters_above_sealevel.median()\n",
    "with sns.axes_style(\"whitegrid\"):\n",
    "    plt.hist(dfNew.meters_above_sealevel, bins=50, color='b')\n",
    "    plt.axvline(meanHeight, 0, 1, color='r', label='Mean')\n",
    "    plt.axvline(medianHeight, 0, 1, color='y', label='Median')\n",
    "    plt.title('Height storm surges')\n",
    "    plt.xlabel('Height (m)')\n",
    "    plt.ylabel('Frequency')\n",
    "    plt.legend()\n",
    "    plt.show()"
   ]
  },
  {
   "cell_type": "markdown",
   "metadata": {},
   "source": [
    "Can we discover a storm surge season in the Delfzijl dataset? Indeed, the barplot places all storm surges symmetrically between September and April. So far summer storms have not yet been reported."
   ]
  },
  {
   "cell_type": "code",
   "execution_count": 13,
   "metadata": {},
   "outputs": [
    {
     "data": {
      "image/png": "[encoded data removed]",
      "text/plain": [
       "<Figure size 864x504 with 1 Axes>"
      ]
     },
     "metadata": {
      "needs_background": "light"
     },
     "output_type": "display_data"
    }
   ],
   "source": [
    "yearDict={'January' : 0, 'February' : 0, 'March' : 0, 'April' : 0, 'May' : 0, 'June' : 0, 'July' : 0, 'August' : 0, 'September' : 0, 'October' : 0, 'November' : 0, 'December' : 0}\n",
    "season=df.groupby(dfNew['date'].dt.strftime('%B'))['meters_above_sealevel'].count()\n",
    "for key, value in season.items():\n",
    "    for yearKey in yearDict.keys():\n",
    "        if yearKey == key:\n",
    "            yearDict[key] = value\n",
    "lists = yearDict.items() # return a list of tuples\n",
    "x, y = zip(*lists) # unpack a list of pairs into two tuples\n",
    "plt.figure(figsize=(12,7))\n",
    "plt.title('Storm season at Delfzijl (NL)')\n",
    "plt.xlabel('Month')\n",
    "plt.ylabel('Storm surge count since 1900')\n",
    "plt.bar(x, y, width=.5, color='b')\n",
    "plt.show()"
   ]
  },
  {
   "cell_type": "markdown",
   "metadata": {},
   "source": [
    "Categorized storm tides since 1900. The majority of the orange labeled tides occur after the 1960s as well as the two red tides (after 2000). More warning level tides (yellow) are reported as well but that's due to the earlier not reported surges between 3.00 and 3.34.<br> The Delfzijl station measured the elsewhere devastating storm surge of 01-02-1953 with a storm tide of 3.27 which is ***below*** the 3.34 border level then in force."
   ]
  },
  {
   "cell_type": "code",
   "execution_count": 14,
   "metadata": {
    "scrolled": false
   },
   "outputs": [
    {
     "data": {
      "image/png": "[encoded data removed]",
      "text/plain": [
       "<Figure size 864x504 with 1 Axes>"
      ]
     },
     "metadata": {
      "needs_background": "light"
     },
     "output_type": "display_data"
    }
   ],
   "source": [
    "plt.figure(figsize=(12,7))\n",
    "my_colours = ['yellow', 'orange', 'red']# Set your custom colour palette\n",
    "sns.set_palette(sns.color_palette(my_colours))\n",
    "classes = dfNew.alarm_level.values\n",
    "labels=[]\n",
    "for c in classes:\n",
    "    if c == 'Y':\n",
    "        labels.append('>= 3.00 m')\n",
    "    elif c == 'O':\n",
    "        labels.append('>= 3.80 m')\n",
    "    else:\n",
    "        labels.append('>= 4.75 m')\n",
    "sns.scatterplot(x=dfNew.date, y=dfNew.meters_above_sealevel, hue=labels, s=50)\n",
    "plt.title('Storm surges at Delfzijl (NL) since 1900')\n",
    "plt.ylabel('Height above Mean Sea Level [m]')\n",
    "plt.xlabel('Storm dates')\n",
    "plt.show()"
   ]
  },
  {
   "cell_type": "markdown",
   "metadata": {},
   "source": [
    "Some initial linear regression (below) to find a trend in Delfzijl storm surges. Unexpectedly a negative relationship is plotted. Some questions arise:\n",
    "* the scattering to the right (from the 1950s) is too heavy as tides up to 3.34 m are included\n",
    "* no storm surge reports before 1948 are found; so might be missing points here\n",
    "* should alarm levels assigned to the scattered points be taken into account?"
   ]
  },
  {
   "cell_type": "code",
   "execution_count": 15,
   "metadata": {},
   "outputs": [
    {
     "data": {
      "image/png": "[encoded data removed]",
      "text/plain": [
       "<Figure size 1080x720 with 1 Axes>"
      ]
     },
     "metadata": {
      "needs_background": "light"
     },
     "output_type": "display_data"
    }
   ],
   "source": [
    "# to fit the linear regression line, date is converted to ordinal equivalent (experienced regplot() to have date problems)\n",
    "dfNew['date_ordinal']=pd.to_datetime(dfNew['date']).apply(lambda date: date.toordinal())\n",
    "plt.figure(figsize=(15,10))\n",
    "ax=sns.regplot(y='meters_above_sealevel', x='date_ordinal', data=dfNew, color='g')\n",
    "ax.set_xlabel('Date')\n",
    "ax.set_ylabel('Height above Mean Sea Level [m]')\n",
    "# reset ordinal ticks to common date format\n",
    "new_labels=[datetime.date.fromordinal(int(ordinal)) for ordinal in ax.get_xticks()]\n",
    "ax.set_xticklabels(new_labels)\n",
    "plt.show()\n",
    "#dfNew.drop(columns=['date_ordinal'])"
   ]
  },
  {
   "cell_type": "markdown",
   "metadata": {},
   "source": [
    "The linear fit tends to slightly lower heights above MSL. Even regarding the confidence band this highly unlikely. The possible todo steps are:\n",
    "* skip storm surges with Height above MSL < 3.34 m\n",
    "* consider seperate linear regressions (per alarm level)\n",
    "* possibly extend the dataset with more surges between 1900 and 1948."
   ]
  },
  {
   "cell_type": "markdown",
   "metadata": {},
   "source": [
    "### Conclusion Exploratory data analysis\n",
    "* The storm surge season is between September and April\n",
    "* Storm surge frequency tends to grow after the 1960s\n",
    "* 75% of the surges >= 4.00 m above MSL occur in 50% (2nd half) of the measurement period (12 out of 16 surges after 1960). The 2 surges causing national alarm code red were measured this century.\n",
    "* Since 2002 closing the Emssperrwerk barrier at Gandersum (Germany) during a storm surge has impact on the measured height above MSL at Delfzijl\n",
    "* Storm surge heights < 3.34 above MSL must be skipped as they are not listed before 1950 "
   ]
  },
  {
   "cell_type": "code",
   "execution_count": 16,
   "metadata": {},
   "outputs": [
    {
     "data": {
      "text/html": [
       "<div>\n",
       "<style scoped>\n",
       "    .dataframe tbody tr th:only-of-type {\n",
       "        vertical-align: middle;\n",
       "    }\n",
       "\n",
       "    .dataframe tbody tr th {\n",
       "        vertical-align: top;\n",
       "    }\n",
       "\n",
       "    .dataframe thead th {\n",
       "        text-align: right;\n",
       "    }\n",
       "</style>\n",
       "<table border=\"1\" class=\"dataframe\">\n",
       "  <thead>\n",
       "    <tr style=\"text-align: right;\">\n",
       "      <th></th>\n",
       "      <th>date</th>\n",
       "      <th>meters_above_sealevel</th>\n",
       "      <th>alarm_level</th>\n",
       "      <th>date_ordinal</th>\n",
       "    </tr>\n",
       "  </thead>\n",
       "  <tbody>\n",
       "    <tr>\n",
       "      <th>0</th>\n",
       "      <td>2022-02-19</td>\n",
       "      <td>3.72</td>\n",
       "      <td>Y</td>\n",
       "      <td>738205</td>\n",
       "    </tr>\n",
       "    <tr>\n",
       "      <th>1</th>\n",
       "      <td>2022-01-30</td>\n",
       "      <td>3.53</td>\n",
       "      <td>Y</td>\n",
       "      <td>738185</td>\n",
       "    </tr>\n",
       "    <tr>\n",
       "      <th>2</th>\n",
       "      <td>2020-02-12</td>\n",
       "      <td>3.47</td>\n",
       "      <td>Y</td>\n",
       "      <td>737467</td>\n",
       "    </tr>\n",
       "    <tr>\n",
       "      <th>3</th>\n",
       "      <td>2020-02-10</td>\n",
       "      <td>3.34</td>\n",
       "      <td>Y</td>\n",
       "      <td>737465</td>\n",
       "    </tr>\n",
       "    <tr>\n",
       "      <th>4</th>\n",
       "      <td>2019-01-08</td>\n",
       "      <td>3.78</td>\n",
       "      <td>Y</td>\n",
       "      <td>737067</td>\n",
       "    </tr>\n",
       "    <tr>\n",
       "      <th>...</th>\n",
       "      <td>...</td>\n",
       "      <td>...</td>\n",
       "      <td>...</td>\n",
       "      <td>...</td>\n",
       "    </tr>\n",
       "    <tr>\n",
       "      <th>69</th>\n",
       "      <td>1914-09-18</td>\n",
       "      <td>3.66</td>\n",
       "      <td>Y</td>\n",
       "      <td>698969</td>\n",
       "    </tr>\n",
       "    <tr>\n",
       "      <th>70</th>\n",
       "      <td>1906-03-13</td>\n",
       "      <td>4.51</td>\n",
       "      <td>O</td>\n",
       "      <td>695858</td>\n",
       "    </tr>\n",
       "    <tr>\n",
       "      <th>71</th>\n",
       "      <td>1905-01-07</td>\n",
       "      <td>3.53</td>\n",
       "      <td>Y</td>\n",
       "      <td>695428</td>\n",
       "    </tr>\n",
       "    <tr>\n",
       "      <th>72</th>\n",
       "      <td>1904-12-30</td>\n",
       "      <td>3.48</td>\n",
       "      <td>Y</td>\n",
       "      <td>695420</td>\n",
       "    </tr>\n",
       "    <tr>\n",
       "      <th>73</th>\n",
       "      <td>1901-01-28</td>\n",
       "      <td>4.53</td>\n",
       "      <td>O</td>\n",
       "      <td>693988</td>\n",
       "    </tr>\n",
       "  </tbody>\n",
       "</table>\n",
       "<p>74 rows × 4 columns</p>\n",
       "</div>"
      ],
      "text/plain": [
       "         date  meters_above_sealevel alarm_level  date_ordinal\n",
       "0  2022-02-19                   3.72           Y        738205\n",
       "1  2022-01-30                   3.53           Y        738185\n",
       "2  2020-02-12                   3.47           Y        737467\n",
       "3  2020-02-10                   3.34           Y        737465\n",
       "4  2019-01-08                   3.78           Y        737067\n",
       "..        ...                    ...         ...           ...\n",
       "69 1914-09-18                   3.66           Y        698969\n",
       "70 1906-03-13                   4.51           O        695858\n",
       "71 1905-01-07                   3.53           Y        695428\n",
       "72 1904-12-30                   3.48           Y        695420\n",
       "73 1901-01-28                   4.53           O        693988\n",
       "\n",
       "[74 rows x 4 columns]"
      ]
     },
     "execution_count": 16,
     "metadata": {},
     "output_type": "execute_result"
    }
   ],
   "source": [
    "#skip storm surges < 3.34 m\n",
    "dfNew=dfNew[dfNew.meters_above_sealevel >= 3.34]\n",
    "dfNew=dfNew.reset_index(drop=True)\n",
    "dfNew"
   ]
  },
  {
   "cell_type": "markdown",
   "metadata": {},
   "source": [
    "All 72 storm surges of >= 3.34 m above MSL can be plotted again to fit the linear regression line. It's just the heights we're interested in; the alarm level is a consequence of the predicted heigt. Let's see if there is no, a positive or a negative relationship."
   ]
  },
  {
   "cell_type": "code",
   "execution_count": 17,
   "metadata": {},
   "outputs": [
    {
     "data": {
      "image/png": "[encoded data removed]",
      "text/plain": [
       "<Figure size 1080x720 with 1 Axes>"
      ]
     },
     "metadata": {
      "needs_background": "light"
     },
     "output_type": "display_data"
    }
   ],
   "source": [
    "plt.figure(figsize=(15,10))\n",
    "ax=sns.regplot(y='meters_above_sealevel', x='date_ordinal', data=dfNew, color='g')\n",
    "ax.set_xlabel('Date')\n",
    "ax.set_ylabel('Height above Mean Sea Level [m]')\n",
    "new_labels=[datetime.date.fromordinal(int(ordinal)) for ordinal in ax.get_xticks()]\n",
    "ax.set_xticklabels(new_labels)\n",
    "plt.show()"
   ]
  },
  {
   "cell_type": "markdown",
   "metadata": {},
   "source": [
    "As can be seen from the linear regression line above, there is a small but positive relationship: over the years an increasing storm surge height above MSL. A far steeper slope would be unrealistic. For this data science excercise this is sufficient to go for the prediction of storm surge heights."
   ]
  },
  {
   "cell_type": "markdown",
   "metadata": {},
   "source": [
    "## Predict storm surge heights\n",
    "Prediction using linear regression. For the prediction of storm surge heights the simplist model of linear regression with one variable will be used: $$ Y = \\beta_0 + \\beta_1 X + \\epsilon$$ <br>where $X$ is the independent feature (X-axis) that is linearly related to the dependent variable $Y$ (Y-axis). Constant $\\beta_0$ is the intercept of the regression line, $\\beta_1$ is the slope and $\\epsilon$ is the error (noise) added to the linear relationship. A method called **Least Squares** is one of the most common methods to fit a linear regression model. The `statsmodels` implementation of Least Squares is applied for predicting $Y$.<br><br>\n",
    "As independent variable $X$ the storm surge date will be used by means of the earlier calculated `date_ordinal`. <br> In reality many more featues will be needed to predict storm surge heights. There is hardly any correlation between storm surge date and height. As an alternative I experimented using the days between storm surges (see next cell for the calculation). However these ***waiting*** days have no correlation with the measured heights."
   ]
  },
  {
   "cell_type": "code",
   "execution_count": 1,
   "metadata": {},
   "outputs": [
    {
     "ename": "NameError",
     "evalue": "name 'dfNew' is not defined",
     "output_type": "error",
     "traceback": [
      "\u001b[1;31m---------------------------------------------------------------------------\u001b[0m",
      "\u001b[1;31mNameError\u001b[0m                                 Traceback (most recent call last)",
      "\u001b[1;32m<ipython-input-1-bde3c3a25949>\u001b[0m in \u001b[0;36m<module>\u001b[1;34m\u001b[0m\n\u001b[0;32m      1\u001b[0m \u001b[1;31m# assign waiting days next storm surge to new column 'waiting'\u001b[0m\u001b[1;33m\u001b[0m\u001b[1;33m\u001b[0m\u001b[1;33m\u001b[0m\u001b[0m\n\u001b[0;32m      2\u001b[0m \u001b[0mdaysWait\u001b[0m\u001b[1;33m=\u001b[0m\u001b[1;33m[\u001b[0m\u001b[1;36m0\u001b[0m\u001b[1;33m]\u001b[0m\u001b[1;33m\u001b[0m\u001b[1;33m\u001b[0m\u001b[0m\n\u001b[1;32m----> 3\u001b[1;33m \u001b[1;32mfor\u001b[0m \u001b[0mi\u001b[0m \u001b[1;32min\u001b[0m \u001b[0mrange\u001b[0m\u001b[1;33m(\u001b[0m\u001b[1;36m1\u001b[0m\u001b[1;33m,\u001b[0m \u001b[0mdfNew\u001b[0m\u001b[1;33m.\u001b[0m\u001b[0mshape\u001b[0m\u001b[1;33m[\u001b[0m\u001b[1;36m0\u001b[0m\u001b[1;33m]\u001b[0m\u001b[1;33m)\u001b[0m\u001b[1;33m:\u001b[0m\u001b[1;33m\u001b[0m\u001b[1;33m\u001b[0m\u001b[0m\n\u001b[0m\u001b[0;32m      4\u001b[0m     \u001b[0mdaysWait\u001b[0m\u001b[1;33m.\u001b[0m\u001b[0mappend\u001b[0m\u001b[1;33m(\u001b[0m\u001b[0mabs\u001b[0m\u001b[1;33m(\u001b[0m\u001b[0mdfNew\u001b[0m\u001b[1;33m.\u001b[0m\u001b[0mdate\u001b[0m\u001b[1;33m[\u001b[0m\u001b[0mi\u001b[0m\u001b[1;33m]\u001b[0m \u001b[1;33m-\u001b[0m \u001b[0mdfNew\u001b[0m\u001b[1;33m.\u001b[0m\u001b[0mdate\u001b[0m\u001b[1;33m[\u001b[0m\u001b[0mi\u001b[0m\u001b[1;33m-\u001b[0m\u001b[1;36m1\u001b[0m\u001b[1;33m]\u001b[0m\u001b[1;33m)\u001b[0m\u001b[1;33m.\u001b[0m\u001b[0mdays\u001b[0m\u001b[1;33m)\u001b[0m\u001b[1;33m\u001b[0m\u001b[1;33m\u001b[0m\u001b[0m\n\u001b[0;32m      5\u001b[0m \u001b[0mdfNew\u001b[0m\u001b[1;33m[\u001b[0m\u001b[1;34m'waiting'\u001b[0m\u001b[1;33m]\u001b[0m\u001b[1;33m=\u001b[0m\u001b[0mdaysWait\u001b[0m\u001b[1;33m\u001b[0m\u001b[1;33m\u001b[0m\u001b[0m\n",
      "\u001b[1;31mNameError\u001b[0m: name 'dfNew' is not defined"
     ]
    }
   ],
   "source": [
    "# assign waiting days next storm surge to new column 'waiting'\n",
    "daysWait=[0]\n",
    "for i in range(1, dfNew.shape[0]):\n",
    "    daysWait.append(abs(dfNew.date[i] - dfNew.date[i-1]).days)\n",
    "dfNew['waiting']=daysWait\n",
    "dfNew"
   ]
  },
  {
   "cell_type": "markdown",
   "metadata": {},
   "source": [
    "### Build a linear regression to predict the next Storm Surge MSL using `statsmodels`\n",
    "***\n",
    "\n",
    "Now let's build a linear regression model for the `stormSurge` DataFrame, and estimate the next storm surge Mean Sea Level at Delfzijl if the waiting time since the last storm surge has been 400 days.\n",
    "\n",
    "$$ StormSurgeMSL = \\beta_0 + \\beta_1 * Waiting + \\epsilon $$ "
   ]
  },
  {
   "cell_type": "code",
   "execution_count": 18,
   "metadata": {},
   "outputs": [],
   "source": [
    "# ols - stands for Ordinary Least Squares\n",
    "import statsmodels.api as sm\n",
    "#X = dfNew.waiting # days to next storm surge\n",
    "X = dfNew.date_ordinal\n",
    "y = dfNew.meters_above_sealevel # height above MSL\n",
    "model = sm.OLS(y, X)"
   ]
  },
  {
   "cell_type": "code",
   "execution_count": 19,
   "metadata": {},
   "outputs": [],
   "source": [
    "results = model.fit()"
   ]
  },
  {
   "cell_type": "code",
   "execution_count": 20,
   "metadata": {},
   "outputs": [
    {
     "name": "stdout",
     "output_type": "stream",
     "text": [
      "                                  OLS Regression Results                                  \n",
      "==========================================================================================\n",
      "Dep. Variable:     meters_above_sealevel   R-squared (uncentered):                   0.991\n",
      "Model:                               OLS   Adj. R-squared (uncentered):              0.991\n",
      "Method:                    Least Squares   F-statistic:                              7732.\n",
      "Date:                   Tue, 22 Feb 2022   Prob (F-statistic):                    8.15e-76\n",
      "Time:                           18:56:50   Log-Likelihood:                         -30.574\n",
      "No. Observations:                     74   AIC:                                      63.15\n",
      "Df Residuals:                         73   BIC:                                      65.45\n",
      "Df Model:                              1                                                  \n",
      "Covariance Type:               nonrobust                                                  \n",
      "================================================================================\n",
      "                   coef    std err          t      P>|t|      [0.025      0.975]\n",
      "--------------------------------------------------------------------------------\n",
      "date_ordinal  5.218e-06   5.93e-08     87.929      0.000     5.1e-06    5.34e-06\n",
      "==============================================================================\n",
      "Omnibus:                       14.608   Durbin-Watson:                   1.697\n",
      "Prob(Omnibus):                  0.001   Jarque-Bera (JB):               16.363\n",
      "Skew:                           1.114   Prob(JB):                     0.000280\n",
      "Kurtosis:                       3.585   Cond. No.                         1.00\n",
      "==============================================================================\n",
      "\n",
      "Warnings:\n",
      "[1] Standard Errors assume that the covariance matrix of the errors is correctly specified.\n"
     ]
    }
   ],
   "source": [
    "print(results.summary())"
   ]
  },
  {
   "cell_type": "code",
   "execution_count": 21,
   "metadata": {},
   "outputs": [
    {
     "data": {
      "text/plain": [
       "array([5.21816542e-06])"
      ]
     },
     "execution_count": 21,
     "metadata": {},
     "output_type": "execute_result"
    }
   ],
   "source": [
    "results.params.values"
   ]
  },
  {
   "cell_type": "markdown",
   "metadata": {},
   "source": [
    "We notice, there is no intercept ($\\beta_0$) fit in this linear model.  To add it, we can use the function `sm.add_constant`.  "
   ]
  },
  {
   "cell_type": "code",
   "execution_count": 22,
   "metadata": {},
   "outputs": [
    {
     "data": {
      "text/html": [
       "<div>\n",
       "<style scoped>\n",
       "    .dataframe tbody tr th:only-of-type {\n",
       "        vertical-align: middle;\n",
       "    }\n",
       "\n",
       "    .dataframe tbody tr th {\n",
       "        vertical-align: top;\n",
       "    }\n",
       "\n",
       "    .dataframe thead th {\n",
       "        text-align: right;\n",
       "    }\n",
       "</style>\n",
       "<table border=\"1\" class=\"dataframe\">\n",
       "  <thead>\n",
       "    <tr style=\"text-align: right;\">\n",
       "      <th></th>\n",
       "      <th>const</th>\n",
       "      <th>date_ordinal</th>\n",
       "    </tr>\n",
       "  </thead>\n",
       "  <tbody>\n",
       "    <tr>\n",
       "      <th>0</th>\n",
       "      <td>1.0</td>\n",
       "      <td>738205</td>\n",
       "    </tr>\n",
       "    <tr>\n",
       "      <th>1</th>\n",
       "      <td>1.0</td>\n",
       "      <td>738185</td>\n",
       "    </tr>\n",
       "    <tr>\n",
       "      <th>2</th>\n",
       "      <td>1.0</td>\n",
       "      <td>737467</td>\n",
       "    </tr>\n",
       "    <tr>\n",
       "      <th>3</th>\n",
       "      <td>1.0</td>\n",
       "      <td>737465</td>\n",
       "    </tr>\n",
       "    <tr>\n",
       "      <th>4</th>\n",
       "      <td>1.0</td>\n",
       "      <td>737067</td>\n",
       "    </tr>\n",
       "  </tbody>\n",
       "</table>\n",
       "</div>"
      ],
      "text/plain": [
       "   const  date_ordinal\n",
       "0    1.0        738205\n",
       "1    1.0        738185\n",
       "2    1.0        737467\n",
       "3    1.0        737465\n",
       "4    1.0        737067"
      ]
     },
     "execution_count": 22,
     "metadata": {},
     "output_type": "execute_result"
    }
   ],
   "source": [
    "X = sm.add_constant(X)\n",
    "X.head()"
   ]
  },
  {
   "cell_type": "markdown",
   "metadata": {},
   "source": [
    "Now that we have an intercept, let's fit a linear regression model again. "
   ]
  },
  {
   "cell_type": "code",
   "execution_count": 23,
   "metadata": {},
   "outputs": [
    {
     "name": "stdout",
     "output_type": "stream",
     "text": [
      "                              OLS Regression Results                             \n",
      "=================================================================================\n",
      "Dep. Variable:     meters_above_sealevel   R-squared:                       0.000\n",
      "Model:                               OLS   Adj. R-squared:                 -0.014\n",
      "Method:                    Least Squares   F-statistic:                 0.0008290\n",
      "Date:                   Tue, 22 Feb 2022   Prob (F-statistic):              0.977\n",
      "Time:                           18:57:23   Log-Likelihood:                -29.399\n",
      "No. Observations:                     74   AIC:                             62.80\n",
      "Df Residuals:                         72   BIC:                             67.41\n",
      "Df Model:                              1                                         \n",
      "Covariance Type:               nonrobust                                         \n",
      "================================================================================\n",
      "                   coef    std err          t      P>|t|      [0.025      0.975]\n",
      "--------------------------------------------------------------------------------\n",
      "const            3.6949      2.424      1.524      0.132      -1.138       8.527\n",
      "date_ordinal  9.676e-08   3.36e-06      0.029      0.977    -6.6e-06     6.8e-06\n",
      "==============================================================================\n",
      "Omnibus:                       14.520   Durbin-Watson:                   1.747\n",
      "Prob(Omnibus):                  0.001   Jarque-Bera (JB):               16.233\n",
      "Skew:                           1.110   Prob(JB):                     0.000299\n",
      "Kurtosis:                       3.581   Cond. No.                     4.12e+07\n",
      "==============================================================================\n",
      "\n",
      "Warnings:\n",
      "[1] Standard Errors assume that the covariance matrix of the errors is correctly specified.\n",
      "[2] The condition number is large, 4.12e+07. This might indicate that there are\n",
      "strong multicollinearity or other numerical problems.\n"
     ]
    }
   ],
   "source": [
    "modelWi = sm.OLS(y, X)\n",
    "resultsWi = modelWi.fit()\n",
    "print(resultsWi.summary())"
   ]
  },
  {
   "cell_type": "markdown",
   "metadata": {},
   "source": [
    "For example, to predict the storm surge height 400 days after the last storm surge, use `results.predict`."
   ]
  },
  {
   "cell_type": "code",
   "execution_count": 24,
   "metadata": {},
   "outputs": [
    {
     "data": {
      "text/plain": [
       "array([3.76636553])"
      ]
     },
     "execution_count": 24,
     "metadata": {},
     "output_type": "execute_result"
    }
   ],
   "source": [
    "#newX = np.array([1,400])\n",
    "ordinalDate=(pd.to_datetime('31-12-2021')).toordinal()\n",
    "newX=np.array([1,ordinalDate]) #ordinal date\n",
    "resultsWi.predict(newX)"
   ]
  },
  {
   "cell_type": "code",
   "execution_count": 25,
   "metadata": {},
   "outputs": [
    {
     "data": {
      "image/png": "[encoded data removed]",
      "text/plain": [
       "<Figure size 1080x720 with 1 Axes>"
      ]
     },
     "metadata": {
      "needs_background": "light"
     },
     "output_type": "display_data"
    }
   ],
   "source": [
    "plt.figure(figsize=(15, 10))\n",
    "#plt.scatter(dfNew.waiting, dfNew.meters_above_sealevel, s=10, c='b')\n",
    "plt.scatter(dfNew.date_ordinal, dfNew.meters_above_sealevel, s=10, c='b')\n",
    "plt.xlabel('Storm surge date (ordinal)')\n",
    "plt.ylabel('Height above MSL (in m)')\n",
    "plt.title('Delfzijl Storm Surges')\n",
    "#plt.plot(dfNew.waiting, resultsWi.fittedvalues, color='black', linewidth=2)\n",
    "plt.plot(dfNew.date_ordinal, resultsWi.fittedvalues, color='black', linewidth=2)\n",
    "plt.show()"
   ]
  },
  {
   "cell_type": "markdown",
   "metadata": {},
   "source": [
    "The expected storm surge height on 31-12-2021 is approximately 3.78m. "
   ]
  },
  {
   "cell_type": "code",
   "execution_count": 26,
   "metadata": {},
   "outputs": [
    {
     "data": {
      "image/png": "[encoded data removed]",
      "text/plain": [
       "<Figure size 1080x720 with 1 Axes>"
      ]
     },
     "metadata": {
      "needs_background": "light"
     },
     "output_type": "display_data"
    }
   ],
   "source": [
    "plt.figure(figsize=(15,10))\n",
    "plt.scatter(resultsWi.fittedvalues, dfNew.meters_above_sealevel, c='b', s=10)\n",
    "plt.xlabel(\"Predicted height above MSL: $\\hat{Y}_i$\")\n",
    "plt.ylabel(\"Height above MSL: $Y_i$\")\n",
    "plt.title(\"Heights vs Predicted Heights: $Y_i$ vs $\\hat{Y}_i$\")\n",
    "plt.show()"
   ]
  },
  {
   "cell_type": "markdown",
   "metadata": {},
   "source": [
    "### Residuals\n",
    "Or how well a line fits an individual data point. Residuals are vertical lines between regression line and points; positive if above the regression line and negative if below. In other words: observed value - predicted value."
   ]
  },
  {
   "cell_type": "code",
   "execution_count": 27,
   "metadata": {},
   "outputs": [],
   "source": [
    "residuals = dfNew.meters_above_sealevel - resultsWi.predict(X)"
   ]
  },
  {
   "cell_type": "code",
   "execution_count": 28,
   "metadata": {},
   "outputs": [
    {
     "data": {
      "image/png": "[encoded data removed]",
      "text/plain": [
       "<Figure size 1080x720 with 1 Axes>"
      ]
     },
     "metadata": {
      "needs_background": "light"
     },
     "output_type": "display_data"
    }
   ],
   "source": [
    "plt.figure(figsize=(15, 10))\n",
    "#plt.plot(dfNew.waiting, residuals, 'o', color='b')\n",
    "plt.plot(dfNew.date_ordinal, residuals, 'o', color='b')\n",
    "plt.hlines(y = 0, xmin=690000, xmax = 740000)\n",
    "plt.xlabel('Date (ordinal)')\n",
    "plt.ylabel('Residuals')\n",
    "plt.title('Residual Plot')\n",
    "plt.show()"
   ]
  },
  {
   "cell_type": "code",
   "execution_count": 29,
   "metadata": {},
   "outputs": [
    {
     "name": "stdout",
     "output_type": "stream",
     "text": [
      "-5.631051180898794e-13\n",
      "-5.631051180898794e-13\n"
     ]
    }
   ],
   "source": [
    "# sum of residuals should be (close to) 0\n",
    "print(np.sum(dfNew.meters_above_sealevel - resultsWi.predict(X)))\n",
    "print(np.sum(residuals)) # the same using 'residuals' variable"
   ]
  },
  {
   "cell_type": "code",
   "execution_count": 30,
   "metadata": {},
   "outputs": [
    {
     "name": "stdout",
     "output_type": "stream",
     "text": [
      "-7.609528622836209e-15\n"
     ]
    }
   ],
   "source": [
    "# mean of residuals should be (close to) 0\n",
    "print(np.mean(dfNew.meters_above_sealevel - resultsWi.predict(X)))"
   ]
  },
  {
   "cell_type": "markdown",
   "metadata": {},
   "source": [
    "The sum and the mean of residuals are always (close to) 0, but give no indication how close we are to the best line of fit. That is what the Mean Squared Error (MSE) tells us: the smaller, the better line of fit. "
   ]
  },
  {
   "cell_type": "code",
   "execution_count": 31,
   "metadata": {},
   "outputs": [
    {
     "name": "stdout",
     "output_type": "stream",
     "text": [
      "0.12959911041207206\n"
     ]
    }
   ],
   "source": [
    "# mean squared error (MSE)\n",
    "print(np.mean((dfNew.meters_above_sealevel - resultsWi.predict(X))**2))"
   ]
  },
  {
   "cell_type": "markdown",
   "metadata": {},
   "source": [
    "Since MSE is small, we have a pretty good regression line. Another statistical measure is Residual Sum of Squares (RSS) indicating how much variance in the dependent points is not explained by the regression model."
   ]
  },
  {
   "cell_type": "code",
   "execution_count": 32,
   "metadata": {},
   "outputs": [
    {
     "name": "stdout",
     "output_type": "stream",
     "text": [
      "9.590334170493328\n"
     ]
    }
   ],
   "source": [
    "# residual sum of squares (RSS)\n",
    "print(np.sum((dfNew.meters_above_sealevel - resultsWi.predict(X))**2))"
   ]
  },
  {
   "cell_type": "markdown",
   "metadata": {},
   "source": [
    "### Conclusion prediction\n",
    "* the slope of the regression line indicates a small, positive relation between date and storm surge height\n",
    "* the regression line fits the points well: small MSE.\n",
    "* the predicted coefficients intercept $\\hat{\\beta}_0$ and slope $\\hat{\\beta}_1$ result in realistic storm surge heights (see plot)\n",
    "* there is a weak real correlation between height and storm surges date. To predict storm surges far more features from different sources are needed. This is an artificial solution to use the Least Squares method to fit a linear regression model for educational purposes. "
   ]
  }
 ],
 "metadata": {
  "kernelspec": {
   "display_name": "Python 3",
   "language": "python",
   "name": "python3"
  },
  "language_info": {
   "codemirror_mode": {
    "name": "ipython",
    "version": 3
   },
   "file_extension": ".py",
   "mimetype": "text/x-python",
   "name": "python",
   "nbconvert_exporter": "python",
   "pygments_lexer": "ipython3",
   "version": "3.8.3"
  }
 },
 "nbformat": 4,
 "nbformat_minor": 4
}

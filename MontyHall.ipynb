{
 "cells": [
  {
   "cell_type": "markdown",
   "metadata": {},
   "source": [
    "# HW0 Monty Hall problem\n",
    "Taken from **Toevalislogisch.pdf** K. Landsman, Radboud Universiteit Nijmegen, NL."
   ]
  },
  {
   "cell_type": "markdown",
   "metadata": {},
   "source": [
    "### Problem description in Dutch \n",
    "Wie kent het driedeurenprobleem niet? Al was het maar onder de alternatieve namen\n",
    "Monty Hall Problem (vernoemd naar de presentator van de spelshow Let's make a deal\n",
    "waarin de hieronder beschreven situatie zich daadwerkelijk voordeed), Willem Ruis Probleem,\n",
    "Ziegenproblem (waarbij het opmerkelijk is dat onze met auto’s geobsedeerde oosterburen\n",
    "het niet over das Autoproblem hebben!), enzovoort. Het probleem kreeg grote\n",
    "bekendheid toen een Marilyn Savant Vos (volgens het Guinness Book of Records de intelligentste\n",
    "vrouw ter wereld) er in 1990 over schreef in haar column Ask Marilyn in het Amerikaanse\n",
    "tijdschrift Parade Magazine, waarin ze wekelijks wiskundevragen van lezers beantwoorde.\n",
    "Ofschoon het probleem toen in alle mogelijke herformuleringen al lang bekend\n",
    "was, is het sindsdien een klassieker uit de kansrekening waarover talloze artikelen en internetsites\n",
    "bestaan; Pfaltzgraff (2006) en Tijms (2002) besteden er bijvoorbeeld aandacht\n",
    "aan. Zie ook de leuke presentatie op kennislink door Van den Brandhof (2006).\n",
    "Stel je bent beland in de finale van een spelshow en staat voor 3 gesloten deuren. Achter\n",
    "één van deze deuren staat de hoofdprijs: een prachtige splinternieuwe auto. Achter ieder\n",
    "van de andere twee deuren bevindt zich een geit. De quizmaster vraagt je één van de drie\n",
    "deuren te kiezen. Nadat jij je keuze gemaakt hebt, opent de quizmaster (die weet waar de\n",
    "auto staat) één van de overgebleven twee deuren. Achter de deur die de quizmaster opent\n",
    "zit een geit. Nu geeft de quizmaster je de keuze om alsnog van deur te wisselen. Wat\n",
    "moet je doen om de meeste kans te maken op de hoofdprijs: bij je oorspronkelijke keuze\n",
    "blijven of wisselen van deur?\n",
    "Je inuïtie zegt waarschijnlijk dat het niet uitmaakt of je van deur wisselt: er zijn nog twee\n",
    "gesloten deuren en op het eerste gezicht lijkt het alsof voor elk van beide deuren de kans\n",
    "1/2 is dat de hoofdprijs zich achter deze deur bevindt. Deze redenering blijkt echter niet\n",
    "juist te zijn: als je wisselt van deur verdubbel je je kans op de hoofdprijs: deze stijgt van\n",
    "1/3 naar 2/3. Waarom? De kans dat je de meteen de deur met de hoofdprijs hebt gekozen\n",
    "6\n",
    "is 1/3. De kans dat je een deur met een geit hebt gekozen is 2/3. Heb je een deur met een\n",
    "geit gekozen, dan levert wisselen van deur je uiteindelijk de hoofdprijs op. Omdat de kans\n",
    "dat je een deur met een geit gekozen 2/3 is, is de kans dat wisselen je de auto geeft dus\n",
    "ook 2/3.  \n"
   ]
  },
  {
   "cell_type": "markdown",
   "metadata": {},
   "source": [
    "### Oplossing van het driedeuren probleem\n",
    "Beide interpretaties van de kansrekening blijken van toepassing op het driedeurenprobleem\n",
    "en geven de correcte oplossing als de onderliggende aannamen goed in kaart worden\n",
    "gebracht. Het driedeurenprobleem kan immers zowel slaan op een éénmalige uitvoering\n",
    "van de quiz als op een wekelijks herhaalde uitzending.\n",
    "Bij de toepassing van de objectieve frequentie-interpretatie van kansen is het essentieel\n",
    "dat de keuzes van zowel de quizmaster als de deelnemer toevallig zijn en ongecorreleerd.\n",
    "Als de quizmaster de auto in opeenvolgende weken namelijk systematisch achter deur 1,\n",
    "2, 3, 1, 2, 3, enzovoort zet en de deelnemers precies op delfde manier een deur kiezen,\n",
    "plaatst de quizmaster de auto weliswaar gemiddeld 1/3 keer achter een willekeurige deur\n",
    "en kiest de deelnemer eveneens gemiddeld 1/3 keer een bepaalde deur, maar zal de\n",
    "deelnemer altijd winnen als hij zijn eerste keus niet verandert en altijd verliezen als hij dat\n",
    "wel doet! Dit is in strijd met de ‘correcte’ oplossing van het probleem, waaruit blijkt dat men\n",
    "zeer zorgvuldig om moet gaan met de frequentie-interpretatie. Ik zal de lezer de verdere\n",
    "uitwerking met behulp van de frequentie-interpretatie besparen en merk slechts op dat de\n",
    "juiste oplossing kan worden gevonden met behulp van de techniek van de kansboom en\n",
    "dat het gebruik van deze techniek de frequentie-interpretatie stilzwijgend aanneemt. Ik\n",
    "geef hier de oplossing met de kansboom van drie scholieren uit de tweede klas.  \n",
    "![](ddd/afbeelding.png)"
   ]
  },
  {
   "cell_type": "code",
   "execution_count": 1,
   "metadata": {},
   "outputs": [],
   "source": [
    "# The %... is an iPython thing, and is not part of the Python language.\n",
    "# In this case we're just telling the plotting library to draw things on\n",
    "# the notebook, instead of on a separate window.\n",
    "%matplotlib inline \n",
    "#this line above prepares IPython notebook for working with matplotlib\n",
    "\n",
    "# See all the \"as ...\" contructs? They're just aliasing the package names.\n",
    "# That way we can call methods like plt.plot() instead of matplotlib.pyplot.plot().\n",
    "\n",
    "import numpy as np # imports a fast numerical programming library\n",
    "import scipy as sp #imports stats functions, amongst other things\n",
    "import matplotlib as mpl # this actually imports matplotlib\n",
    "import matplotlib.cm as cm #allows us easy access to colormaps\n",
    "import matplotlib.pyplot as plt #sets up plotting under plt\n",
    "import pandas as pd #lets us handle data as dataframes\n",
    "#sets up pandas table display\n",
    "pd.set_option('display.width', 500)\n",
    "pd.set_option('display.max_columns', 100)\n",
    "pd.set_option('display.notebook_repr_html', True)\n",
    "import seaborn as sns #sets up styles and gives us more plotting options"
   ]
  },
  {
   "cell_type": "markdown",
   "metadata": {},
   "source": [
    "## Solution design\n",
    "Based on a large number of runs we want to calculate the average chance to win the prize if the contestant remains at the door and the chance if contestant switches to another door. \n",
    "\n",
    "So we need winning door percentages for these two situations: \n",
    "1. remain at door. Input needed: contestants chosen door and the winning door\n",
    "2. switch doors. Input needed: contestants new guess and winning door\n",
    "\n",
    "We need some functions\n",
    "1. simulate the winning door. As there are 3 doors ad random choose one of them as winning door.\n",
    "2. simulate the contestants guess. \n",
    "3. simulate one of the non-winning doors different from contestants choice and winning door.\n",
    "4. switch to other door (if contestant decides so); different from contestants guess and opened non-winning door\n",
    "5. calculate the winning percentage"
   ]
  },
  {
   "cell_type": "markdown",
   "metadata": {},
   "source": [
    "### Example data\n",
    "Throughout the code nsim for function testing = 5. Functions `non_winning_door()` and `switch_door()` use:  \n",
    "* winning_doors [0, 2, 1, 0, 1]  \n",
    "* contestant_guess [ 1, 1, 0, 0, 2]"
   ]
  },
  {
   "cell_type": "code",
   "execution_count": 2,
   "metadata": {},
   "outputs": [
    {
     "name": "stdout",
     "output_type": "stream",
     "text": [
      "[1 2 2 2 0]\n"
     ]
    }
   ],
   "source": [
    "# Simulate the winning door\n",
    "\"\"\"\n",
    "Random array of winning doors (values 0, 1 or 2).\n",
    "numpy.random.randint(low, high, size) where high is exclusive meaning 0, 1 or 2\n",
    "\"\"\"\n",
    "def simulate_prizedoor(nsim) :\n",
    "    return np.random.randint(0, 3, nsim)\n",
    "\n",
    "print (simulate_prizedoor(5))\n"
   ]
  },
  {
   "cell_type": "code",
   "execution_count": 3,
   "metadata": {},
   "outputs": [
    {
     "name": "stdout",
     "output_type": "stream",
     "text": [
      "[0 0 2 0 2]\n"
     ]
    }
   ],
   "source": [
    "# Simulate the contestants guess\n",
    "\"\"\"\n",
    "Random array of contestant's door choices (values 0, 1 or 2).\n",
    "Henk: no idea why example returned array filled with 0's (always 1st door)\n",
    "\"\"\"\n",
    "\n",
    "def simulate_guess(nsim) :\n",
    "    \"\"\"return np.zeros(nsim, dtype=int)\"\"\"    \n",
    "    return np.random.randint(0, 3, nsim)\n",
    "\n",
    "print (simulate_guess(5))"
   ]
  },
  {
   "cell_type": "code",
   "execution_count": 4,
   "metadata": {},
   "outputs": [
    {
     "name": "stdout",
     "output_type": "stream",
     "text": [
      "[2, 0, 2, 2, 0]\n",
      "[2, 0, 0]\n"
     ]
    }
   ],
   "source": [
    "# Simulate one of the non-winning doors different from contestants choice and winning door\n",
    "\"\"\"\n",
    "Non-winning door array (values 0, 1 or 2). \n",
    "Input: winningdoors and guesses (contenstant_guess).\n",
    "Approach:\n",
    "per simulation return value other than winning_door or guess\n",
    "Example:\n",
    "winningdoors       [0, 2, 1, 0, 1]\n",
    "contenstant_guess  [1, 1, 0, 0, 2]\n",
    "RESULTS expected    2, 0, 2, 1, 0 (or 2, 0, 2, 2, 0)\n",
    "\"\"\"\n",
    "def goat_door(winningdoors, guesses) :\n",
    "    results = []\n",
    "    for winning_door, guess in zip(winningdoors, guesses) :\n",
    "        result = np.random.randint(0, 3)\n",
    "        \"\"\"as long as result == winning_door OR result === guess, provide new result\"\"\"\n",
    "        while result == winning_door or result == guess :\n",
    "            result = np.random.randint(0, 3)\n",
    "        results.append(result)\n",
    "    return results\n",
    "\n",
    "print (goat_door(np.array([0, 2, 1, 0, 1]), np.array([1, 1, 0, 0, 2])))\n",
    "print (goat_door(np.array([0, 1, 2]), np.array([1, 1, 1])))"
   ]
  },
  {
   "cell_type": "code",
   "execution_count": 5,
   "metadata": {},
   "outputs": [
    {
     "name": "stdout",
     "output_type": "stream",
     "text": [
      "[0, 2, 1, 2, 1]\n",
      "[2, 0, 0]\n"
     ]
    }
   ],
   "source": [
    "# Switch to other door (if contestant decides so); different from contestants guess and opened non-winning door\n",
    "\"\"\"\n",
    "Contestant switches to other door. \n",
    "Input: nonwinningdoors (opened by host) and guesses (contestant_guess)\n",
    "Approach: per simulation return other than non_winning_door or guess\n",
    "Example:\n",
    "nonwinningdoors    [2, 0, 2, 1, 0]\n",
    "contestant_guess   [1, 1, 0, 0, 2]\n",
    "RESULTS expected    0, 2, 1, 2, 1\n",
    "\"\"\"\n",
    "def switch_guess(nonwinningdoors, guesses) :\n",
    "    results = []\n",
    "    for non_winning_door, guess in zip(nonwinningdoors, guesses):\n",
    "        result = np.random.randint(0, 3)\n",
    "        while result == non_winning_door or result == guess:\n",
    "            result = np.random.randint(0, 3)\n",
    "        results.append(result)\n",
    "    return results\n",
    "\n",
    "print (switch_guess(np.array([2, 0, 2, 1, 0]), np.array([1, 1, 0, 0, 2])))\n",
    "print (switch_guess(np.array([0, 1, 2]), np.array([1, 2, 1])))"
   ]
  },
  {
   "cell_type": "code",
   "execution_count": 6,
   "metadata": {},
   "outputs": [
    {
     "name": "stdout",
     "output_type": "stream",
     "text": [
      "33.33333333333333\n"
     ]
    }
   ],
   "source": [
    "# Calculate the winning percentage\n",
    "def win_percentage(winning_doors, guesses):\n",
    "    return 100 * (winning_doors == guesses).mean()\n",
    "\n",
    "print (win_percentage(np.array([0, 1, 2]), np.array([0, 0, 0])))"
   ]
  },
  {
   "cell_type": "code",
   "execution_count": 7,
   "metadata": {},
   "outputs": [
    {
     "name": "stdout",
     "output_type": "stream",
     "text": [
      "Win percentage when keeping original door\n",
      "32.67\n",
      "Win percentage when switching doors\n",
      "67.33\n"
     ]
    }
   ],
   "source": [
    "nsim = 10000\n",
    "wd = simulate_prizedoor(nsim)\n",
    "guess = simulate_guess(nsim)\n",
    "\n",
    "#keep guesses\n",
    "print (\"Win percentage when keeping original door\")\n",
    "print (win_percentage(wd, guess))\n",
    "\n",
    "#switch\n",
    "goats = goat_door(wd, guess)\n",
    "guess = switch_guess(guess, goats)\n",
    "print (\"Win percentage when switching doors\")\n",
    "print (win_percentage(wd, guess))"
   ]
  },
  {
   "cell_type": "markdown",
   "metadata": {},
   "source": [
    "### Remarks on Harvard 2015 solution\n",
    "* function `simulate_guess()`. Instead of `np.zeros()` using `np.random.randint()` which doesn't limit contestant's guess to just door 1. Function now equal to `simulate_prizedoor()`; **could use 1 instead**\n",
    "* function `goat_door()` rewritten.\n",
    "* function `switch_guess()` rewritten (don't understand Harvard's `switch` assignement and use). Function now equal to `goat_door()`. **could use 1 instead**\n",
    "* in main code moved `simulate_prizedoor()` and `simulate_guess()` to top just after `nsim` assignment. So same arrays for branches \"keep guesses\" and \"switch\".\n",
    "* in main code removed trailing `.mean()` from `win_percentage(wd, guess)` because it's already included in that function\n",
    "* did not experiment this case for `n` doors, but changing the high value of `np.random.randint()` should be sufficient to do so. Preferably a variable that is either passed as function param or defined elsewhere and included\n",
    "\n",
    "Note: Harvard 2015 solution in [CS109](https://github.com/cs109/2015lab1/blob/master/hw0.ipynb)"
   ]
  },
  {
   "cell_type": "code",
   "execution_count": null,
   "metadata": {},
   "outputs": [],
   "source": []
  }
 ],
 "metadata": {
  "kernelspec": {
   "display_name": "Python 3",
   "language": "python",
   "name": "python3"
  },
  "language_info": {
   "codemirror_mode": {
    "name": "ipython",
    "version": 3
   },
   "file_extension": ".py",
   "mimetype": "text/x-python",
   "name": "python",
   "nbconvert_exporter": "python",
   "pygments_lexer": "ipython3",
   "version": "3.8.3"
  }
 },
 "nbformat": 4,
 "nbformat_minor": 4
}

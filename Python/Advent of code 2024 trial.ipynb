{
 "cells": [
  {
   "cell_type": "markdown",
   "metadata": {},
   "source": [
    "# Advent of code 2024. An approach for solving day 12\n",
    "---\n",
    "My colleague at work invited me to *day 12* of the [Advent of Code 2024 challenge](https://adventofcode.com/2024/day/12). Quite interesting... This notebook reflects only the lastest, working code finished 03-01-2025. There were two attempts before....\n",
    "\n",
    "## Some remarks\n",
    "* This is my first experience with the AoC\n",
    "* The first approach was based on my colleague's notes on the whiteboard at work; some days later I read the puzzle's description.\n",
    "* Apart from well known internet sources as [Stack Overflow](https://stackoverflow.com/) and [GeeksForGeeks](https://www.geeksforgeeks.org/) I struggled on my own.\n",
    "* Coding is in Python as that's the language I'm familiar with: using it since three years now.\n",
    "* Pretty soon I found a formula that calculates a region's fences price based on amount of garden plots and amount of common sides of adjacent plots.\n",
    "* The toughest part for me was finding a way to calculate the amount of common sides of adjacent plots.\n",
    "* Enjoyed solving this puzzle very much.\n",
    "* I really admire those tackling more than 1 let alone all 25 coding riddles.\n",
    "\n"
   ]
  },
  {
   "cell_type": "code",
   "execution_count": 1,
   "metadata": {},
   "outputs": [],
   "source": [
    "import os\n",
    "import numpy as np\n",
    "import tkinter as tk\n",
    "from tkinter import filedialog\n",
    "from queue import Queue"
   ]
  },
  {
   "cell_type": "markdown",
   "metadata": {},
   "source": [
    "### Read in the map with the garden plots\n",
    "As stated in the puzzle description the map is rectangular and contains >= 2 types of plantes located in garden plots.\n",
    "* a garden plot contains just 1 type of plant; on the map labeled with a character\n",
    "* clusters of >= 1 adjacent garden plots with the same type of plant (char) are called regions\n",
    "* the map may contain > 1 regions of the same type of plant (char)\n",
    "* a region may enclose a region of another char\n",
    "\n",
    "The program input of this rectangular map with garden plots is a comma separated CSV file. Example: CSV contents of the puzzle's first garden group and the 2d array after reading in the CSV file:\n",
    "```\n",
    "A,A,A,A     [['A' 'A' 'A' 'A']\n",
    "B,B,C,D      ['B' 'B' 'C' 'D']\n",
    "B,B,C,C      ['B' 'B' 'C' 'C']\n",
    "E,E,E,C      ['E' 'E' 'E' 'C']]\n",
    "```\n",
    "\n"
   ]
  },
  {
   "cell_type": "code",
   "execution_count": 2,
   "metadata": {},
   "outputs": [],
   "source": [
    "# read input matrix from csv file\n",
    "root = tk.Tk()\n",
    "matrix_file = filedialog.askopenfilename(filetypes=[(\"CSV matrix files\", \"*.csv\")])\n",
    "root.destroy()\n",
    "char_arr = np.loadtxt(matrix_file, delimiter=',', dtype=str)"
   ]
  },
  {
   "cell_type": "markdown",
   "metadata": {},
   "source": [
    "### Detect regions\n",
    "The big question to be answered is the total price of fencing all regions on the map. To calculate the perimeter of a region all common sides of adjacent plots are counted. Together with the region's area that count is needed to calculate a region's price.\n",
    "\n",
    "Detecting regions:\n",
    "* for a char (type of plant) count the amount of adjacent cells in the 2d matrix; this forms the region\n",
    "* calculate number of common sides in region\n",
    "\n",
    "Breadth First Search is used to find all adjacent cells of the given char in the 2d matrix. "
   ]
  },
  {
   "cell_type": "code",
   "execution_count": 3,
   "metadata": {},
   "outputs": [],
   "source": [
    "def detect_regions(regions_matrix, char):\n",
    "    rows, cols = len(regions_matrix), len(regions_matrix[0])\n",
    "    char_dict_list = []\n",
    "    visited = [[False] * cols for _ in range(rows)]\n",
    "    \n",
    "    directions = [(0, -1), (0, 1), (-1, 0), (1, 0)]\n",
    "    \n",
    "    # find all neighbours having element(i, j) == True in the visited matrix (a character of a region)\n",
    "    def num_neighbour(visited_matrix, i, j):\n",
    "        count = 0\n",
    "        if i > 0 and visited_matrix[i - 1][j]: # up\n",
    "            count += 1\n",
    "        if j > 0 and visited_matrix[i][j - 1]: # left\n",
    "            count += 1\n",
    "        if i < rows - 1 and visited_matrix[i + 1][j]: #down\n",
    "            count += 1\n",
    "        if j < cols - 1 and visited_matrix[i][j + 1]: # right\n",
    "            count += 1\n",
    "        return count\n",
    "    \n",
    "    # breadth first search visits all connected nodes in the matrix to find one or more regions.\n",
    "    def bfs(queue):\n",
    "        char_count = adjacent_count = 0 # both needed to later calculate the price of fencing a region\n",
    "        found_chars= [] # to collect positions of all found characters in a region\n",
    "        while not queue.empty():\n",
    "            x = queue.get()\n",
    "            row, col = map(int, x.split(','))\n",
    "            # check if row, col without bounds matrix or not already visited or is a different character\n",
    "            if row < 0 or col < 0 or row >= rows or col >= cols or visited[row][col] or regions_matrix[row][col] != char:\n",
    "                continue\n",
    "            \n",
    "            # char found: set visited True, update char_count and store position\n",
    "            visited[row][col] = True\n",
    "            char_count += 1\n",
    "            found_chars.append((row, col))\n",
    "\n",
    "            # find adjacent elements for all 4 direction\n",
    "            for direction in directions:\n",
    "                new_row, new_col = row + direction[0], col + direction[1]\n",
    "                queue.put(f'{new_row}, {new_col}')\n",
    "                \n",
    "        # finally calculate adjacent_count: sum of common borders of adjacent elements with same char\n",
    "        total_neighbours = 0\n",
    "        for pos in found_chars:\n",
    "            neighbour_count = num_neighbour(visited, pos[0], pos[1])\n",
    "            total_neighbours += neighbour_count\n",
    "        adjacent_count = total_neighbours // 2\n",
    "        char_dict = {'count': char_count, 'adjacent': adjacent_count}\n",
    "        char_dict_list.append(char_dict)\n",
    "        \n",
    "    for i in range(rows):\n",
    "        for j in range(cols):\n",
    "            if not visited[i][j] and regions_matrix[i][j] == char:\n",
    "                queue = Queue()\n",
    "                queue.put(f'{i}, {j}')\n",
    "                bfs(queue)\n",
    "\n",
    "    return char_dict_list"
   ]
  },
  {
   "cell_type": "markdown",
   "metadata": {},
   "source": [
    "### Price calculation of a region\n",
    "Price of fencing a region: multiply area by it's perimeter. The perimeter is the fences count that is calculated as follows:\n",
    "```\n",
    "count * 4 - adjacent * 2\n",
    "```\n",
    "where `count` is the area (number of adjacent cells in a region) and `adjacent` is the total of common sides between adjacent cells.\n",
    "\n",
    "The function below is for all detected regions of a certain char."
   ]
  },
  {
   "cell_type": "code",
   "execution_count": 4,
   "metadata": {},
   "outputs": [],
   "source": [
    "# formula fences_count: count * 4 - adjacent * 2\n",
    "def price_calc(dict_list):\n",
    "    price = 0\n",
    "    for region in dict_list:\n",
    "        fences_count = region[\"count\"] * 4 - region[\"adjacent\"] * 2\n",
    "        price += region[\"count\"] * fences_count\n",
    "    return price"
   ]
  },
  {
   "cell_type": "markdown",
   "metadata": {},
   "source": [
    "### Main\n",
    "Print the input, start the calculation and print the results"
   ]
  },
  {
   "cell_type": "code",
   "execution_count": 5,
   "metadata": {},
   "outputs": [
    {
     "name": "stdout",
     "output_type": "stream",
     "text": [
      "Input garden plots map: garden_group_3.csv\n",
      "\n",
      "Adjacent C regions: [{'count': 14, 'adjacent': 14}, {'count': 1, 'adjacent': 0}]\n",
      "price region(s) C: 396\n",
      "Adjacent E regions: [{'count': 13, 'adjacent': 17}]\n",
      "price region(s) E: 234\n",
      "Adjacent F regions: [{'count': 10, 'adjacent': 11}]\n",
      "price region(s) F: 180\n",
      "Adjacent I regions: [{'count': 4, 'adjacent': 4}, {'count': 14, 'adjacent': 17}]\n",
      "price region(s) I: 340\n",
      "Adjacent J regions: [{'count': 11, 'adjacent': 12}]\n",
      "price region(s) J: 220\n",
      "Adjacent M regions: [{'count': 5, 'adjacent': 4}]\n",
      "price region(s) M: 60\n",
      "Adjacent R regions: [{'count': 12, 'adjacent': 15}]\n",
      "price region(s) R: 216\n",
      "Adjacent S regions: [{'count': 3, 'adjacent': 2}]\n",
      "price region(s) S: 24\n",
      "Adjacent V regions: [{'count': 13, 'adjacent': 16}]\n",
      "price region(s) V: 260\n",
      "\n",
      "Total fencing price: 1930\n"
     ]
    }
   ],
   "source": [
    "# MAIN unique chars in char_arr\n",
    "print(f'Input garden plots map: {os.path.basename(matrix_file)}\\n')\n",
    "total_price = 0\n",
    "for char in np.unique(char_arr):\n",
    "    regions_dict_list = detect_regions(char_arr, char)\n",
    "    print(f'Adjacent {char} regions: {regions_dict_list}')\n",
    "    region_price = price_calc(regions_dict_list)\n",
    "    print(f'price region(s) {char}: {region_price}')\n",
    "    total_price += region_price\n",
    "print(f'\\nTotal fencing price: {total_price}')"
   ]
  }
 ],
 "metadata": {
  "kernelspec": {
   "display_name": "Python 3",
   "language": "python",
   "name": "python3"
  },
  "language_info": {
   "codemirror_mode": {
    "name": "ipython",
    "version": 3
   },
   "file_extension": ".py",
   "mimetype": "text/x-python",
   "name": "python",
   "nbconvert_exporter": "python",
   "pygments_lexer": "ipython3",
   "version": "3.8.3"
  }
 },
 "nbformat": 4,
 "nbformat_minor": 4
}

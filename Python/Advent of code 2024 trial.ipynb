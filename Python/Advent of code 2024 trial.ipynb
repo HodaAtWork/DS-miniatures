{
 "cells": [
  {
   "cell_type": "markdown",
   "metadata": {},
   "source": [
    "# Advent of code 2024. An approach for solving day 12\n",
    "---\n",
    "My colleague at work invited me to this [Advent of Code 2024 challenge](https://adventofcode.com/2024/day/12). Quite interesting... This notebook reflects my attempt."
   ]
  },
  {
   "cell_type": "code",
   "execution_count": 1,
   "metadata": {},
   "outputs": [],
   "source": [
    "import numpy as np"
   ]
  },
  {
   "cell_type": "code",
   "execution_count": 2,
   "metadata": {},
   "outputs": [],
   "source": [
    "# input matrix\n",
    "# char_arr = np.array([['A', 'B', 'C', 'D', 'X'],\n",
    "#                     ['X', 'A', 'A', 'B', 'C'],\n",
    "#                     ['D', 'C', 'A', 'A', 'A'],\n",
    "#                     ['X', 'C', 'D', 'X', 'B'],\n",
    "#                     ['X', 'D', 'A', 'A', 'A']])\n",
    "# Example with surrounding X's\n",
    "char_arr = np.array([['A', 'B', 'C', 'D', 'X'],\n",
    "                    ['X', 'X', 'X', 'B', 'C'],\n",
    "                    ['X', 'C', 'X', 'A', 'A'],\n",
    "                    ['X', 'C', 'X', 'A', 'B'],\n",
    "                    ['X', 'X', 'X', 'C', 'A']])"
   ]
  },
  {
   "cell_type": "code",
   "execution_count": 3,
   "metadata": {},
   "outputs": [
    {
     "name": "stdout",
     "output_type": "stream",
     "text": [
      "[(0, 4), (1, 0), (1, 1), (1, 2), (2, 0), (2, 2), (3, 0), (3, 2), (4, 0), (4, 1), (4, 2)]\n"
     ]
    }
   ],
   "source": [
    "# find positions of a char\n",
    "char = 'X'\n",
    "char_list = list(zip(*np.where(char_arr==char)))\n",
    "print(char_list)"
   ]
  },
  {
   "cell_type": "code",
   "execution_count": 4,
   "metadata": {},
   "outputs": [
    {
     "name": "stdout",
     "output_type": "stream",
     "text": [
      "------------------------------\n",
      "char = 1, 0, previous = 0, 4\n",
      "NOT FOUND ADJACENT cols previous row [(0, 4)]\n",
      "------------------------------\n",
      "char = 1, 1, previous = 1, 0\n",
      "FOUND ADJACENT cols previous row [(0, 4)] ADJACENT with []: 1\n",
      "------------------------------\n",
      "char = 1, 2, previous = 1, 1\n",
      "FOUND ADJACENT cols previous row [(0, 4)] ADJACENT with []: 2\n",
      "------------------------------\n",
      "char = 2, 0, previous = 1, 2\n",
      "FOUND ADJACENT cols previous row [(1, 0), (1, 1), (1, 2)] ADJACENT with [(1, 0)]: 3\n",
      "------------------------------\n",
      "char = 2, 2, previous = 2, 0\n",
      "FOUND ADJACENT cols previous row [(1, 0), (1, 1), (1, 2)] ADJACENT with [(1, 2)]: 4\n",
      "------------------------------\n",
      "char = 3, 0, previous = 2, 2\n",
      "FOUND ADJACENT cols previous row [(2, 0), (2, 2)] ADJACENT with [(2, 0)]: 5\n",
      "------------------------------\n",
      "char = 3, 2, previous = 3, 0\n",
      "FOUND ADJACENT cols previous row [(2, 0), (2, 2)] ADJACENT with [(2, 2)]: 6\n",
      "------------------------------\n",
      "char = 4, 0, previous = 3, 2\n",
      "FOUND ADJACENT cols previous row [(3, 0), (3, 2)] ADJACENT with [(3, 0)]: 7\n",
      "------------------------------\n",
      "char = 4, 1, previous = 4, 0\n",
      "FOUND ADJACENT cols previous row [(3, 0), (3, 2)] ADJACENT with []: 8\n",
      "------------------------------\n",
      "char = 4, 2, previous = 4, 1\n",
      "Dict list with >= 0 adjacent X char groups: [{'count': 1, 'adjacent': 0}, {'count': 10, 'adjacent': 10}]\n"
     ]
    }
   ],
   "source": [
    "# count char occurences of >= 0 adjacent chars\n",
    "char_dict_list = []\n",
    "char_count, adjacent_count = 1, 0\n",
    "position = char_list[0]    \n",
    "for i in range(1, len(char_list)):\n",
    "    row = char_list[i][0]\n",
    "    col = char_list[i][1]\n",
    "    print(f'------------------------------')\n",
    "    print(f'char = {row}, {col}, previous = {position[0]}, {position[1]}')\n",
    "\n",
    "    # find all occurrences in row before\n",
    "    if not row == position[0]:\n",
    "        cols_prev_row = [val for val in char_list if val[0] == position[0]]\n",
    "    val_list = [val for val in cols_prev_row if val[1] == col and abs(row - val[0] == 1)]\n",
    "    if (row == position[0] and abs(col - position[1]) == 1) and any(val_list): # both row and column neighbour\n",
    "        adjacent_count += 2\n",
    "        char_count += 1\n",
    "    elif (row == position[0] and abs(col - position[1]) == 1) or any(val_list):\n",
    "        adjacent_count += 1\n",
    "        char_count += 1\n",
    "        print(f'FOUND ADJACENT cols previous row {cols_prev_row} ADJACENT with {val_list}: {adjacent_count}')\n",
    "    else:\n",
    "        print(f'NOT FOUND ADJACENT cols previous row {cols_prev_row}')\n",
    "        char_dict = {'count': char_count, 'adjacent': adjacent_count}\n",
    "        char_dict_list.append(char_dict)\n",
    "        char_count, adjacent_count = 1, 0\n",
    "    position = char_list[i]\n",
    "if len(char_list) > 1:\n",
    "    char_dict = {'count': char_count, 'adjacent': adjacent_count}\n",
    "    char_dict_list.append(char_dict)\n",
    "        \n",
    "print(f'Dict list with >= 0 adjacent {char} char groups: {char_dict_list}')"
   ]
  },
  {
   "cell_type": "code",
   "execution_count": 5,
   "metadata": {},
   "outputs": [
    {
     "name": "stdout",
     "output_type": "stream",
     "text": [
      "Results for char X\n",
      "WINDOWS counted: 4\n",
      "WINDOWS counted: 20\n"
     ]
    }
   ],
   "source": [
    "# calculate number of windows for each detected char group\n",
    "# formula: count * 4 - adjacent * 2\n",
    "print(f'Results for char {char}')\n",
    "for i in char_dict_list:\n",
    "     print(f'WINDOWS counted: {i[\"count\"] * 4 - i[\"adjacent\"] * 2}')"
   ]
  }
 ],
 "metadata": {
  "kernelspec": {
   "display_name": "Python 3",
   "language": "python",
   "name": "python3"
  },
  "language_info": {
   "codemirror_mode": {
    "name": "ipython",
    "version": 3
   },
   "file_extension": ".py",
   "mimetype": "text/x-python",
   "name": "python",
   "nbconvert_exporter": "python",
   "pygments_lexer": "ipython3",
   "version": "3.8.3"
  }
 },
 "nbformat": 4,
 "nbformat_minor": 4
}

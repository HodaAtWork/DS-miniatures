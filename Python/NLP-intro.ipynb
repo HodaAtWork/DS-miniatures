{
 "cells": [
  {
   "cell_type": "markdown",
   "metadata": {},
   "source": [
    "# Natural Language Processing\n",
    "An example to learn about natural language processing, abbreviated NLP, using NLTK. [NLTK (the Natural Language Toolkit)](https://www.nltk.org) is a very easy Python library for working with text data and NLP. \n",
    "\n",
    "The data used here is a collection of short jokes in English. Bur you might also consider reading text from a website with the BeautifulSoup library. "
   ]
  },
  {
   "cell_type": "code",
   "execution_count": 20,
   "metadata": {},
   "outputs": [
    {
     "name": "stdout",
     "output_type": "stream",
     "text": [
      "showing info https://raw.githubusercontent.com/nltk/nltk_data/gh-pages/index.xml\n"
     ]
    },
    {
     "data": {
      "text/plain": [
       "True"
      ]
     },
     "execution_count": 20,
     "metadata": {},
     "output_type": "execute_result"
    }
   ],
   "source": [
    "# just once\n",
    "nltk.download()"
   ]
  },
  {
   "cell_type": "code",
   "execution_count": 1,
   "metadata": {},
   "outputs": [],
   "source": [
    "import string\n",
    "import urllib.request\n",
    "import bs4\n",
    "import pandas as pd\n",
    "import numpy as np\n",
    "import collections\n",
    "import nltk # Natural language toolkit\n",
    "from nltk.corpus import stopwords\n",
    "from nltk.stem import PorterStemmer\n",
    "from nltk.stem import WordNetLemmatizer\n",
    "from nltk.corpus import wordnet\n",
    "from platform import python_version"
   ]
  },
  {
   "cell_type": "code",
   "execution_count": 2,
   "metadata": {},
   "outputs": [
    {
     "name": "stdout",
     "output_type": "stream",
     "text": [
      "3.8.3\n"
     ]
    }
   ],
   "source": [
    "# check Python version\n",
    "print(python_version())"
   ]
  },
  {
   "cell_type": "markdown",
   "metadata": {},
   "source": [
    "### Import data\n",
    "The jokes dataset is retrieved from [Kaggle](https://www.kaggle.com/abhinavmoudgil95/short-jokes). "
   ]
  },
  {
   "cell_type": "code",
   "execution_count": 3,
   "metadata": {},
   "outputs": [
    {
     "data": {
      "text/html": [
       "<div>\n",
       "<style scoped>\n",
       "    .dataframe tbody tr th:only-of-type {\n",
       "        vertical-align: middle;\n",
       "    }\n",
       "\n",
       "    .dataframe tbody tr th {\n",
       "        vertical-align: top;\n",
       "    }\n",
       "\n",
       "    .dataframe thead th {\n",
       "        text-align: right;\n",
       "    }\n",
       "</style>\n",
       "<table border=\"1\" class=\"dataframe\">\n",
       "  <thead>\n",
       "    <tr style=\"text-align: right;\">\n",
       "      <th></th>\n",
       "      <th>ID</th>\n",
       "      <th>Joke</th>\n",
       "    </tr>\n",
       "  </thead>\n",
       "  <tbody>\n",
       "    <tr>\n",
       "      <th>0</th>\n",
       "      <td>1</td>\n",
       "      <td>[me narrating a documentary about narrators] \"...</td>\n",
       "    </tr>\n",
       "    <tr>\n",
       "      <th>1</th>\n",
       "      <td>2</td>\n",
       "      <td>Telling my daughter garlic is good for you. Go...</td>\n",
       "    </tr>\n",
       "    <tr>\n",
       "      <th>2</th>\n",
       "      <td>3</td>\n",
       "      <td>I've been going through a really rough period ...</td>\n",
       "    </tr>\n",
       "    <tr>\n",
       "      <th>3</th>\n",
       "      <td>4</td>\n",
       "      <td>If I could have dinner with anyone, dead or al...</td>\n",
       "    </tr>\n",
       "    <tr>\n",
       "      <th>4</th>\n",
       "      <td>5</td>\n",
       "      <td>Two guys walk into a bar. The third guy ducks.</td>\n",
       "    </tr>\n",
       "  </tbody>\n",
       "</table>\n",
       "</div>"
      ],
      "text/plain": [
       "   ID                                               Joke\n",
       "0   1  [me narrating a documentary about narrators] \"...\n",
       "1   2  Telling my daughter garlic is good for you. Go...\n",
       "2   3  I've been going through a really rough period ...\n",
       "3   4  If I could have dinner with anyone, dead or al...\n",
       "4   5     Two guys walk into a bar. The third guy ducks."
      ]
     },
     "execution_count": 3,
     "metadata": {},
     "output_type": "execute_result"
    }
   ],
   "source": [
    "df = pd.read_csv('data/shortjokes.csv')\n",
    "df.head()"
   ]
  },
  {
   "cell_type": "markdown",
   "metadata": {},
   "source": [
    "## Preprocessing data\n",
    "The above import results in a Pandas dataframe. But it could as well be retrieved from a website (see below). In both cases the text should be preprocessed to a format suitable for NLP tasks. It's obvious we're interested in meaningful words and not in tags, stopwords and punctuation. Well known preprocessing steps are:\n",
    "* remove irrelevant entries (in our example empty jokes)\n",
    "* text to lower case\n",
    "* remove punctuation\n",
    "* tokenize to words\n",
    "* remove stopwords\n",
    "* stemming\n",
    "* part-of-speech tagging\n",
    "* lemmatizing words\n",
    "\n",
    "First most of these steps are considered separately below. Then followed by a preprocessing function with most of these steps."
   ]
  },
  {
   "cell_type": "markdown",
   "metadata": {},
   "source": [
    "The dataframe has two columns with the joke in column `Joke`. Collect the jokes and check for empty jokes. Then print the first joke."
   ]
  },
  {
   "cell_type": "code",
   "execution_count": 4,
   "metadata": {},
   "outputs": [
    {
     "name": "stdout",
     "output_type": "stream",
     "text": [
      "231657\n",
      "0\n"
     ]
    },
    {
     "data": {
      "text/plain": [
       "'[me narrating a documentary about narrators] \"I can\\'t hear what they\\'re saying cuz I\\'m talking\"'"
      ]
     },
     "execution_count": 4,
     "metadata": {},
     "output_type": "execute_result"
    }
   ],
   "source": [
    "jokes = [joke for joke in df.Joke ]\n",
    "print(len(jokes))\n",
    "print(jokes.count(''))\n",
    "jokes[:10]\n",
    "jokes[0]"
   ]
  },
  {
   "cell_type": "markdown",
   "metadata": {},
   "source": [
    "No empty jokes!\n",
    "\n",
    "### Import data (alternative)\n",
    "Reading data from a website. No further cells for this alternative in the notebook.\n",
    "```python\n",
    "url = 'https://pharo.org'\n",
    "# read the website\n",
    "html_source = urllib.request.urlopen(url).read()\n",
    "soup = bs4.BeautifulSoup(html_source, 'html5lib')\n",
    "text = soup.get_text(strip=True) # get text from html tags and remove excessive whitespace\n",
    "print (text) \n",
    "```"
   ]
  },
  {
   "cell_type": "markdown",
   "metadata": {},
   "source": [
    "### Removing punctuation and to lower case \n",
    "Punctuation is removed using the maketrans function that replaces the punctuation character by a `' '` and stores them in a mapping table. Function translate() gives a string where specified characters are replaced with the character  in this mapping table.\n",
    "Lower case avoids case sensitive duplicates."
   ]
  },
  {
   "cell_type": "code",
   "execution_count": 5,
   "metadata": {},
   "outputs": [
    {
     "name": "stdout",
     "output_type": "stream",
     "text": [
      " me narrating a documentary about narrators   i can t hear what they re saying cuz i m talking  telling my daughter garlic is good for you  good immune system and keeps pests away ticks  mosquitos  vampires    men  i ve been going through a really rough period at work this week it s my own fault for swapping my tampax for sand paper  if i could have dinner with anyone  dead or alive       i would choose alive   b j  novak  two guys walk into a bar  the third guy ducks  why can t barbie get pregn\n"
     ]
    }
   ],
   "source": [
    "all_jokes=''\n",
    "for joke in jokes:\n",
    "    all_jokes += joke + ' '\n",
    "jokes_clean = all_jokes.translate(str.maketrans(string.punctuation, ' '*len(string.punctuation)))\n",
    "jokes_clean = jokes_clean.lower()\n",
    "print(jokes_clean[:500])"
   ]
  },
  {
   "cell_type": "markdown",
   "metadata": {},
   "source": [
    "## Tokenisation\n",
    "Finding all separate tokens (convert our `jokes_clean` to tokens) can be done in two ways:\n",
    "- by means of function `split()`\n",
    "- using `nltk`\n",
    "\n",
    "#### Tokenising with Split()"
   ]
  },
  {
   "cell_type": "code",
   "execution_count": 6,
   "metadata": {},
   "outputs": [
    {
     "name": "stdout",
     "output_type": "stream",
     "text": [
      "4219491\n",
      "63957\n"
     ]
    }
   ],
   "source": [
    "jokes_clean_tokens = jokes_clean.split()\n",
    "print (len(jokes_clean_tokens))\n",
    "print(len(set(jokes_clean_tokens))) #unique tokens"
   ]
  },
  {
   "cell_type": "markdown",
   "metadata": {},
   "source": [
    "#### Tokenising using NLTK"
   ]
  },
  {
   "cell_type": "code",
   "execution_count": 7,
   "metadata": {},
   "outputs": [
    {
     "name": "stdout",
     "output_type": "stream",
     "text": [
      "4222866\n",
      "63953\n"
     ]
    }
   ],
   "source": [
    "jokes_clean_tokens = nltk.word_tokenize(jokes_clean)\n",
    "print(len(jokes_clean_tokens))\n",
    "print(len(set(jokes_clean_tokens))) #unique tokens"
   ]
  },
  {
   "cell_type": "markdown",
   "metadata": {},
   "source": [
    "### Word count\n",
    "NLTK's FreqDist() returns the count for each token (incudes stop words). Printed in reversed sort order."
   ]
  },
  {
   "cell_type": "code",
   "execution_count": 8,
   "metadata": {},
   "outputs": [
    {
     "name": "stdout",
     "output_type": "stream",
     "text": [
      "[('a', 171781), ('the', 154083), ('i', 123374), ('you', 89027), ('to', 88176), ('and', 59903), ('s', 57345), ('what', 56823), ('it', 55501), ('in', 52088), ('of', 49394), ('my', 48929), ('is', 43197), ('t', 38790), ('do', 36289), ('me', 32352), ('that', 29565), ('on', 28279), ('was', 27098), ('he', 26543)]\n"
     ]
    }
   ],
   "source": [
    "freq = nltk.FreqDist(jokes_clean_tokens) # dictionary with key=token and value=amount counted\n",
    "sorted_freq = {}\n",
    "sorted_keys = sorted(freq, key = freq.get)\n",
    "for s in sorted_keys:\n",
    "    sorted_freq[s] = freq[s]\n",
    "print(list(reversed(sorted_freq.items()))[:20])"
   ]
  },
  {
   "cell_type": "code",
   "execution_count": null,
   "metadata": {},
   "outputs": [],
   "source": [
    "# or unsorted\n",
    "print(list(freq.items())[:20])"
   ]
  },
  {
   "cell_type": "code",
   "execution_count": 9,
   "metadata": {},
   "outputs": [
    {
     "data": {
      "image/png": "[encoded data removed]",
      "text/plain": [
       "<Figure size 432x288 with 1 Axes>"
      ]
     },
     "metadata": {
      "needs_background": "light"
     },
     "output_type": "display_data"
    },
    {
     "data": {
      "text/plain": [
       "<matplotlib.axes._subplots.AxesSubplot at 0x24607e00310>"
      ]
     },
     "execution_count": 9,
     "metadata": {},
     "output_type": "execute_result"
    }
   ],
   "source": [
    "freq.plot(20, cumulative=False)"
   ]
  },
  {
   "cell_type": "markdown",
   "metadata": {},
   "source": [
    "### Removing stop words\n",
    "English stop words as `a`, `the`, `of` and `but`. The list of stop words is:"
   ]
  },
  {
   "cell_type": "code",
   "execution_count": 10,
   "metadata": {},
   "outputs": [
    {
     "name": "stdout",
     "output_type": "stream",
     "text": [
      "['i', 'me', 'my', 'myself', 'we', 'our', 'ours', 'ourselves', 'you', \"you're\", \"you've\", \"you'll\", \"you'd\", 'your', 'yours', 'yourself', 'yourselves', 'he', 'him', 'his', 'himself', 'she', \"she's\", 'her', 'hers', 'herself', 'it', \"it's\", 'its', 'itself', 'they', 'them', 'their', 'theirs', 'themselves', 'what', 'which', 'who', 'whom', 'this', 'that', \"that'll\", 'these', 'those', 'am', 'is', 'are', 'was', 'were', 'be', 'been', 'being', 'have', 'has', 'had', 'having', 'do', 'does', 'did', 'doing', 'a', 'an', 'the', 'and', 'but', 'if', 'or', 'because', 'as', 'until', 'while', 'of', 'at', 'by', 'for', 'with', 'about', 'against', 'between', 'into', 'through', 'during', 'before', 'after', 'above', 'below', 'to', 'from', 'up', 'down', 'in', 'out', 'on', 'off', 'over', 'under', 'again', 'further', 'then', 'once', 'here', 'there', 'when', 'where', 'why', 'how', 'all', 'any', 'both', 'each', 'few', 'more', 'most', 'other', 'some', 'such', 'no', 'nor', 'not', 'only', 'own', 'same', 'so', 'than', 'too', 'very', 's', 't', 'can', 'will', 'just', 'don', \"don't\", 'should', \"should've\", 'now', 'd', 'll', 'm', 'o', 're', 've', 'y', 'ain', 'aren', \"aren't\", 'couldn', \"couldn't\", 'didn', \"didn't\", 'doesn', \"doesn't\", 'hadn', \"hadn't\", 'hasn', \"hasn't\", 'haven', \"haven't\", 'isn', \"isn't\", 'ma', 'mightn', \"mightn't\", 'mustn', \"mustn't\", 'needn', \"needn't\", 'shan', \"shan't\", 'shouldn', \"shouldn't\", 'wasn', \"wasn't\", 'weren', \"weren't\", 'won', \"won't\", 'wouldn', \"wouldn't\"]\n"
     ]
    }
   ],
   "source": [
    "# collect then English stop words\n",
    "sw = stopwords.words('english') \n",
    "print (sw)"
   ]
  },
  {
   "cell_type": "code",
   "execution_count": 11,
   "metadata": {},
   "outputs": [
    {
     "data": {
      "text/plain": [
       "['narrating',\n",
       " 'documentary',\n",
       " 'narrators',\n",
       " 'hear',\n",
       " 'saying',\n",
       " 'cuz',\n",
       " 'talking',\n",
       " 'telling',\n",
       " 'daughter',\n",
       " 'garlic',\n",
       " 'good',\n",
       " 'good',\n",
       " 'immune',\n",
       " 'system',\n",
       " 'keeps',\n",
       " 'pests',\n",
       " 'away',\n",
       " 'ticks',\n",
       " 'mosquitos',\n",
       " 'vampires']"
      ]
     },
     "execution_count": 11,
     "metadata": {},
     "output_type": "execute_result"
    }
   ],
   "source": [
    "# remove these stop words from tokens \n",
    "tokens_no_stops = [word for word in jokes_clean_tokens if word not in sw]\n",
    "tokens_no_stops[:20] # first 20\n",
    "#tokens_no_stops"
   ]
  },
  {
   "cell_type": "markdown",
   "metadata": {},
   "source": [
    "#### Word count revisited"
   ]
  },
  {
   "cell_type": "code",
   "execution_count": 12,
   "metadata": {},
   "outputs": [
    {
     "data": {
      "image/png": "[encoded data removed]",
      "text/plain": [
       "<Figure size 432x288 with 1 Axes>"
      ]
     },
     "metadata": {
      "needs_background": "light"
     },
     "output_type": "display_data"
    },
    {
     "data": {
      "text/plain": [
       "<matplotlib.axes._subplots.AxesSubplot at 0x246082895e0>"
      ]
     },
     "execution_count": 12,
     "metadata": {},
     "output_type": "execute_result"
    }
   ],
   "source": [
    "freq = nltk.FreqDist(tokens_no_stops)\n",
    "freq.plot(20, cumulative=False)"
   ]
  },
  {
   "cell_type": "markdown",
   "metadata": {},
   "source": [
    "### Word stemming\n",
    "or: removing affixes from words and return the root word"
   ]
  },
  {
   "cell_type": "code",
   "execution_count": 13,
   "metadata": {},
   "outputs": [
    {
     "data": {
      "text/plain": [
       "['narrat',\n",
       " 'documentari',\n",
       " 'narrat',\n",
       " 'hear',\n",
       " 'say',\n",
       " 'cuz',\n",
       " 'talk',\n",
       " 'tell',\n",
       " 'daughter',\n",
       " 'garlic',\n",
       " 'good',\n",
       " 'good',\n",
       " 'immun',\n",
       " 'system',\n",
       " 'keep',\n",
       " 'pest',\n",
       " 'away',\n",
       " 'tick',\n",
       " 'mosquito',\n",
       " 'vampir']"
      ]
     },
     "execution_count": 13,
     "metadata": {},
     "output_type": "execute_result"
    }
   ],
   "source": [
    "stemmer = PorterStemmer()\n",
    "stemmed = [stemmer.stem(token) for token in tokens_no_stops]\n",
    "stemmed[:20]"
   ]
  },
  {
   "cell_type": "markdown",
   "metadata": {},
   "source": [
    "### Part-of-Speech tagging\n"
   ]
  },
  {
   "cell_type": "code",
   "execution_count": 14,
   "metadata": {},
   "outputs": [
    {
     "data": {
      "text/plain": [
       "[('narrating', 'VBG'),\n",
       " ('documentary', 'JJ'),\n",
       " ('narrators', 'NNS'),\n",
       " ('hear', 'VBP'),\n",
       " ('saying', 'VBG'),\n",
       " ('cuz', 'NN'),\n",
       " ('talking', 'VBG'),\n",
       " ('telling', 'VBG'),\n",
       " ('daughter', 'NN'),\n",
       " ('garlic', 'JJ'),\n",
       " ('good', 'JJ'),\n",
       " ('good', 'NN'),\n",
       " ('immune', 'NN'),\n",
       " ('system', 'NN'),\n",
       " ('keeps', 'VBZ'),\n",
       " ('pests', 'VBZ'),\n",
       " ('away', 'RB'),\n",
       " ('ticks', 'NNS'),\n",
       " ('mosquitos', 'VBP'),\n",
       " ('vampires', 'NNS')]"
      ]
     },
     "execution_count": 14,
     "metadata": {},
     "output_type": "execute_result"
    }
   ],
   "source": [
    "# the tagger for English uses Penn Treebank tagset.\n",
    "pos_tagged = nltk.pos_tag(tokens_no_stops)\n",
    "pos_tagged[:20]"
   ]
  },
  {
   "cell_type": "code",
   "execution_count": null,
   "metadata": {},
   "outputs": [],
   "source": [
    "# meaning of tags (Penn Treebank)\n",
    "nltk.help.upenn_tagset()"
   ]
  },
  {
   "cell_type": "markdown",
   "metadata": {},
   "source": [
    "As the tags for **p**art **o**f **s**peech in lemmatizer are different from those used by [WordNet](https://wordnet.princeton.edu), the conversion function below converts to the proper tags used in lemmatizer (borrowed from IBMDeveloperUK):"
   ]
  },
  {
   "cell_type": "code",
   "execution_count": 15,
   "metadata": {},
   "outputs": [],
   "source": [
    "def get_wordnet_pos(treebank_tag):\n",
    "\n",
    "    if treebank_tag.startswith('J'):\n",
    "        return wordnet.ADJ # 'a'\n",
    "    elif treebank_tag.startswith('V'):\n",
    "        return wordnet.VERB # 'v'\n",
    "    elif treebank_tag.startswith('N'):\n",
    "        return wordnet.NOUN # 'n'\n",
    "    elif treebank_tag.startswith('R'):\n",
    "        return wordnet.ADV # 'r'\n",
    "    else:\n",
    "        return 'n'"
   ]
  },
  {
   "cell_type": "code",
   "execution_count": 16,
   "metadata": {},
   "outputs": [
    {
     "data": {
      "text/plain": [
       "[('narrating', 'v'),\n",
       " ('documentary', 'a'),\n",
       " ('narrators', 'n'),\n",
       " ('hear', 'v'),\n",
       " ('saying', 'v'),\n",
       " ('cuz', 'n'),\n",
       " ('talking', 'v'),\n",
       " ('telling', 'v'),\n",
       " ('daughter', 'n'),\n",
       " ('garlic', 'a'),\n",
       " ('good', 'a'),\n",
       " ('good', 'n'),\n",
       " ('immune', 'n'),\n",
       " ('system', 'n'),\n",
       " ('keeps', 'v'),\n",
       " ('pests', 'v'),\n",
       " ('away', 'r'),\n",
       " ('ticks', 'n'),\n",
       " ('mosquitos', 'v'),\n",
       " ('vampires', 'n')]"
      ]
     },
     "execution_count": 16,
     "metadata": {},
     "output_type": "execute_result"
    }
   ],
   "source": [
    "pos_tagged_wn = [(val[0], get_wordnet_pos(val[1])) for val in pos_tagged]\n",
    "pos_tagged_wn[:20]"
   ]
  },
  {
   "cell_type": "markdown",
   "metadata": {},
   "source": [
    "### Lemmatizing words\n",
    "Something like stemming but returning real words or synonyms."
   ]
  },
  {
   "cell_type": "code",
   "execution_count": 17,
   "metadata": {},
   "outputs": [
    {
     "data": {
      "text/plain": [
       "['narrate',\n",
       " 'documentary',\n",
       " 'narrator',\n",
       " 'hear',\n",
       " 'say',\n",
       " 'cuz',\n",
       " 'talk',\n",
       " 'tell',\n",
       " 'daughter',\n",
       " 'garlic',\n",
       " 'good',\n",
       " 'good',\n",
       " 'immune',\n",
       " 'system',\n",
       " 'keep',\n",
       " 'pests',\n",
       " 'away',\n",
       " 'tick',\n",
       " 'mosquitos',\n",
       " 'vampire']"
      ]
     },
     "execution_count": 17,
     "metadata": {},
     "output_type": "execute_result"
    }
   ],
   "source": [
    "lemmatizer = WordNetLemmatizer()\n",
    "lemmatized = [lemmatizer.lemmatize(token[0], pos = token[1]) for token in pos_tagged_wn]\n",
    "lemmatized[:20]"
   ]
  },
  {
   "cell_type": "markdown",
   "metadata": {},
   "source": [
    "### Bi-grams\n",
    "Or n-grams with 2 words. Actually word pairs."
   ]
  },
  {
   "cell_type": "code",
   "execution_count": 18,
   "metadata": {},
   "outputs": [
    {
     "data": {
      "text/plain": [
       "[('me', 'narrating'),\n",
       " ('narrating', 'a'),\n",
       " ('a', 'documentary'),\n",
       " ('documentary', 'about'),\n",
       " ('about', 'narrators'),\n",
       " ('narrators', 'i'),\n",
       " ('i', 'can'),\n",
       " ('can', 't'),\n",
       " ('t', 'hear'),\n",
       " ('hear', 'what'),\n",
       " ('what', 'they'),\n",
       " ('they', 're'),\n",
       " ('re', 'saying'),\n",
       " ('saying', 'cuz'),\n",
       " ('cuz', 'i'),\n",
       " ('i', 'm'),\n",
       " ('m', 'talking'),\n",
       " ('talking', 'telling'),\n",
       " ('telling', 'my'),\n",
       " ('my', 'daughter'),\n",
       " ('daughter', 'garlic'),\n",
       " ('garlic', 'is'),\n",
       " ('is', 'good'),\n",
       " ('good', 'for'),\n",
       " ('for', 'you')]"
      ]
     },
     "execution_count": 18,
     "metadata": {},
     "output_type": "execute_result"
    }
   ],
   "source": [
    "# argument the tokenized string (with the stop words)\n",
    "bigrams = list(nltk.bigrams(jokes_clean_tokens))\n",
    "bigrams[:25]"
   ]
  },
  {
   "cell_type": "markdown",
   "metadata": {},
   "source": [
    "Find the most common bi-grams"
   ]
  },
  {
   "cell_type": "code",
   "execution_count": 19,
   "metadata": {},
   "outputs": [
    {
     "data": {
      "text/plain": [
       "[(('do', 'you'), 19990),\n",
       " (('i', 'm'), 16324),\n",
       " (('what', 'do'), 15682),\n",
       " (('don', 't'), 13778),\n",
       " (('it', 's'), 13178),\n",
       " (('in', 'the'), 12138),\n",
       " (('what', 's'), 11666),\n",
       " (('you', 'call'), 10295),\n",
       " (('did', 'the'), 8499),\n",
       " (('to', 'the'), 8489),\n",
       " (('s', 'the'), 8039),\n",
       " (('in', 'a'), 7325),\n",
       " (('call', 'a'), 7102),\n",
       " (('and', 'a'), 6830),\n",
       " (('can', 't'), 6634),\n",
       " (('you', 're'), 6257),\n",
       " (('of', 'the'), 6223),\n",
       " (('on', 'the'), 6119),\n",
       " (('what', 'did'), 6015),\n",
       " (('difference', 'between'), 5973)]"
      ]
     },
     "execution_count": 19,
     "metadata": {},
     "output_type": "execute_result"
    }
   ],
   "source": [
    "c = collections.Counter # we need this counter c once\n",
    "c(bigrams).most_common(20)"
   ]
  },
  {
   "cell_type": "markdown",
   "metadata": {},
   "source": [
    "The same but without stop-words"
   ]
  },
  {
   "cell_type": "code",
   "execution_count": 20,
   "metadata": {},
   "outputs": [
    {
     "data": {
      "text/plain": [
       "[(('walks', 'bar'), 1952),\n",
       " (('knock', 'knock'), 1846),\n",
       " (('gon', 'na'), 1526),\n",
       " (('last', 'night'), 1332),\n",
       " (('year', 'old'), 1319),\n",
       " (('light', 'bulb'), 1199),\n",
       " (('take', 'change'), 1189),\n",
       " (('wan', 'na'), 1165),\n",
       " (('donald', 'trump'), 1048),\n",
       " (('walk', 'bar'), 1035),\n",
       " (('cross', 'road'), 895),\n",
       " (('take', 'screw'), 876),\n",
       " (('every', 'time'), 841),\n",
       " (('like', 'like'), 751),\n",
       " (('like', 'women'), 750),\n",
       " (('get', 'cross'), 741),\n",
       " (('chuck', 'norris'), 710),\n",
       " (('women', 'like'), 685),\n",
       " (('man', 'walks'), 649),\n",
       " (('change', 'lightbulb'), 647)]"
      ]
     },
     "execution_count": 20,
     "metadata": {},
     "output_type": "execute_result"
    }
   ],
   "source": [
    "bigrams = list(nltk.bigrams(tokens_no_stops))\n",
    "c(bigrams).most_common(20)"
   ]
  },
  {
   "cell_type": "markdown",
   "metadata": {},
   "source": [
    "Makes more sense. But what if we counted the longer n-grams?"
   ]
  },
  {
   "cell_type": "code",
   "execution_count": 21,
   "metadata": {},
   "outputs": [
    {
     "data": {
      "text/plain": [
       "[(('na', 'na', 'na', 'na', 'na', 'na', 'na', 'na', 'na', 'na'), 31),\n",
       " (('knock',\n",
       "   'knock',\n",
       "   'knock',\n",
       "   'knock',\n",
       "   'knock',\n",
       "   'knock',\n",
       "   'knock',\n",
       "   'knock',\n",
       "   'knock',\n",
       "   'knock'),\n",
       "  31),\n",
       " (('sex',\n",
       "   'sex',\n",
       "   'sex',\n",
       "   'free',\n",
       "   'sex',\n",
       "   'tonight',\n",
       "   'said',\n",
       "   'wow',\n",
       "   'friend',\n",
       "   'said'),\n",
       "  22),\n",
       " (('sorry',\n",
       "   'suffer',\n",
       "   'terminal',\n",
       "   'illness',\n",
       "   '10',\n",
       "   'live',\n",
       "   'patient',\n",
       "   'mean',\n",
       "   '10',\n",
       "   '10'),\n",
       "  21),\n",
       " (('suffer',\n",
       "   'terminal',\n",
       "   'illness',\n",
       "   '10',\n",
       "   'live',\n",
       "   'patient',\n",
       "   'mean',\n",
       "   '10',\n",
       "   '10',\n",
       "   'months'),\n",
       "  21),\n",
       " (('terminal',\n",
       "   'illness',\n",
       "   '10',\n",
       "   'live',\n",
       "   'patient',\n",
       "   'mean',\n",
       "   '10',\n",
       "   '10',\n",
       "   'months',\n",
       "   'weeks'),\n",
       "  21),\n",
       " (('sex',\n",
       "   'sex',\n",
       "   'free',\n",
       "   'sex',\n",
       "   'tonight',\n",
       "   'said',\n",
       "   'wow',\n",
       "   'friend',\n",
       "   'said',\n",
       "   'means'),\n",
       "  21),\n",
       " (('fw', 'fw', 'fw', 'fw', 'fw', 'fw', 'fw', 'fw', 'fw', 'fw'), 21),\n",
       " (('difference',\n",
       "   'dirty',\n",
       "   'bus',\n",
       "   'stop',\n",
       "   'lobster',\n",
       "   'breast',\n",
       "   'implants',\n",
       "   'one',\n",
       "   'crusty',\n",
       "   'bus'),\n",
       "  21),\n",
       " (('dirty',\n",
       "   'bus',\n",
       "   'stop',\n",
       "   'lobster',\n",
       "   'breast',\n",
       "   'implants',\n",
       "   'one',\n",
       "   'crusty',\n",
       "   'bus',\n",
       "   'station'),\n",
       "  21)]"
      ]
     },
     "execution_count": 21,
     "metadata": {},
     "output_type": "execute_result"
    }
   ],
   "source": [
    "n_grams = list(nltk.ngrams(tokens_no_stops, 10))\n",
    "c(n_grams).most_common(10)"
   ]
  },
  {
   "cell_type": "markdown",
   "metadata": {},
   "source": [
    "#### Retrospect: create one pre-processing function\n",
    "The above steps can be seen as pre-processing. Now we have seen each pre-processing step separately we can create one function to do this. This function encompasses:\n",
    "* remove empty jokes\n",
    "* entire text to lower case\n",
    "* remove punctuation from text\n",
    "* tokenize all jokes to list of words\n",
    "* remove tokens that are stopwords\n",
    "* tagging part-of-speech of each word\n",
    "* lemmatize individual words\n",
    "\n",
    "Stemming is left out, because a word's stem is less meaningful than a lemmatized word."
   ]
  },
  {
   "cell_type": "code",
   "execution_count": 22,
   "metadata": {},
   "outputs": [],
   "source": [
    "def preprocess_jokes(jokes): \n",
    "    # if there are any, remove empty jokes\n",
    "    jokes_no_empties = [joke for joke in jokes if joke != '']\n",
    "    print(jokes.count(''),'empty jokes removed')\n",
    "\n",
    "    # to lower case\n",
    "    jokes_no_empties = [joke.lower() for joke in jokes_no_empties]\n",
    "    print('Text converted to lower case')\n",
    "    \n",
    "    # remove punctuation\n",
    "    jokes_no_punctuation = [joke.translate(str.maketrans(string.punctuation, ' '*len(string.punctuation))) for joke in jokes_no_empties] \n",
    "    print('Punctuation removed')\n",
    "    \n",
    "    # tokenize using NLTK\n",
    "    jokes_tokens = [nltk.word_tokenize(joke) for joke in jokes_no_punctuation]\n",
    "    print('Jokes tokenized to list of words')\n",
    "    \n",
    "    # remove english stopwords\n",
    "    sw = stopwords.words('english')\n",
    "    jokes_no_stops = []\n",
    "    for joke in jokes_tokens:\n",
    "        jokes_no_stops.append([word for word in joke if word not in sw])\n",
    "    print('English stopwords removed')\n",
    "    \n",
    "    # part-of-speech tagging (for English using the Penn Treebank tagset)\n",
    "    jokes_pos_tagged = [nltk.pos_tag(joke) for joke in jokes_no_stops]\n",
    "    def get_wordnet_pos(treebank_tag):\n",
    "        if treebank_tag.startswith('J'):\n",
    "            return wordnet.ADJ # 'a'\n",
    "        elif treebank_tag.startswith('V'):\n",
    "            return wordnet.VERB # 'v'\n",
    "        elif treebank_tag.startswith('N'):\n",
    "            return wordnet.NOUN # 'n'\n",
    "        elif treebank_tag.startswith('R'):\n",
    "            return wordnet.ADV # 'r'\n",
    "        else:\n",
    "            return 'n'\n",
    "    # convert to WordNet\n",
    "    pos_jokes_wn = []\n",
    "    for joke in jokes_pos_tagged:\n",
    "        pos_jokes_wn.append([(val[0], get_wordnet_pos(val[1])) for val in joke])\n",
    "    print('Part of speech tagged and converted to WordNet')\n",
    "    \n",
    "    # lemmatize words\n",
    "    lemmatizer = WordNetLemmatizer()\n",
    "    lemmatized_jokes = []\n",
    "    for joke in pos_jokes_wn:\n",
    "        lemmatized_jokes.append([lemmatizer.lemmatize(token[0], pos = token[1]) for token in joke])\n",
    "    print('Lemmatizing finished; returning lemmatized words')\n",
    "    \n",
    "    return lemmatized_jokes"
   ]
  },
  {
   "cell_type": "code",
   "execution_count": 23,
   "metadata": {
    "scrolled": true
   },
   "outputs": [
    {
     "name": "stdout",
     "output_type": "stream",
     "text": [
      "0 empty jokes removed\n",
      "Text converted to lower case\n",
      "Punctuation removed\n",
      "Jokes tokenized to list of words\n",
      "English stopwords removed\n",
      "Part of speech tagged and converted to WordNet\n",
      "Lemmatizing finished; returning lemmatized words\n",
      "[['narrate', 'documentary', 'narrator', 'hear', 'say', 'cuz', 'talk'], ['tell', 'daughter', 'garlic', 'good', 'good', 'immune', 'system', 'keep', 'pests', 'away', 'tick', 'mosquitos', 'vampire', 'men'], ['go', 'really', 'rough', 'period', 'work', 'week', 'fault', 'swap', 'tampax', 'sand', 'paper'], ['could', 'dinner', 'anyone', 'dead', 'alive', 'would', 'choose', 'alive', 'b', 'j', 'novak'], ['two', 'guy', 'walk', 'bar', 'third', 'guy', 'duck'], ['barbie', 'get', 'pregnant', 'ken', 'come', 'different', 'box', 'heyooooooo'], ['musician', 'arrest', 'get', 'treble'], ['hear', 'guy', 'blow', 'entire', 'lottery', 'winning', 'limousine', 'nothing', 'leave', 'chauffeur'], ['bird', 'shit', 'car', 'ask'], ['real', 'gentleman', 'always', 'open', 'fridge', 'door'], ['tell', 'daugthers', 'date', 'lice', 'contagious', 'close', 'get', 'correct', 'way', 'parent'], ['criticize', 'pac', 'man', 'waka', 'waka', 'waka', 'mile', 'shoe'], ['difference', 'illegal', 'mexican', 'autonomous', 'robot', 'nothing', 'make', 'steal', 'american', 'job'], ['call', 'barbarian', 'see', 'invisigoth'], ['spell', 'canda', 'c', 'eh', 'n', 'eh', 'eh'], ['ever', 'notice', 'dangerous', 'thing', 'marijuana', 'get', 'caught'], ['arnold', 'schwarzenegger', 'say', 'abortion', 'clinic', 'hasta', 'last', 'vista', 'baby'], ['wife', 'bad', 'mood', 'think', 'boyfriend', 'forget', 'anniversary', 'way', 'go', 'dude', 'suffer'], ['speech', 'today', 'like', 'mini', 'skirt', 'long', 'enough', 'cover', 'essential', 'short', 'enough', 'hold', 'attention'], ['thanksgiving', 'joke', 'miley', 'cyrus', 'eat', 'thanksgiving', 'twerky', 'kid', 'drug', 'eats', 'drug', 'adam', 'zopf', 'adamzopf']]\n"
     ]
    }
   ],
   "source": [
    "jokes = [joke for joke in df.Joke]\n",
    "lemmatized_jokes = preprocess_jokes(jokes)\n",
    "print(lemmatized_jokes[:20])"
   ]
  },
  {
   "cell_type": "markdown",
   "metadata": {},
   "source": [
    "## And now for something completely different...\n",
    "As to quote Monty Python's 1971 film. My intention was to classify these jokes after assigning a relevant category to each joke (the dataset has no category column). However I don't know these categories and it seems a hell of a job to create/find an algorithm that assigns categories to the 231657 jokes in the dataset.\n",
    "\n",
    "We might use the `shortjokes` dataset as a basis for a AI joke generator. Bur before trying this, let's examine the `pyjokes` library that enables us to create random jokes."
   ]
  },
  {
   "cell_type": "markdown",
   "metadata": {},
   "source": [
    "### Pyjokes\n",
    "According to the `PyPI` description: One line jokes for programmers (jokes as a service). There are 2 available API's each accepting two parameters: the language and the category. Known categories: neutral, twister, all and chuck. It reminds me of the `fortune cookies` on Unix systems a long time ago; after each login a cookie was displayed.<br><br>The `pyjokes` library must be installed from a notebook cell or from `anaconda`."
   ]
  },
  {
   "cell_type": "code",
   "execution_count": 24,
   "metadata": {},
   "outputs": [],
   "source": [
    "import pyjokes"
   ]
  },
  {
   "cell_type": "code",
   "execution_count": 25,
   "metadata": {},
   "outputs": [
    {
     "name": "stdout",
     "output_type": "stream",
     "text": [
      "What do you call a programmer from Finland? Nerdic.\n"
     ]
    }
   ],
   "source": [
    "one_joke = pyjokes.get_joke(language = 'en', category = 'neutral')\n",
    "print(one_joke)"
   ]
  },
  {
   "cell_type": "code",
   "execution_count": 26,
   "metadata": {},
   "outputs": [
    {
     "name": "stdout",
     "output_type": "stream",
     "text": [
      "['Acht alte Ameisen aßen am Abend Ananas. ', \"Als wir noch in der Wiege lagen, gab's noch keine Liegewagen. Jetzt kann man in den Wagen liegen und sich in allen Lagen wiegen. \", 'Brautkleid bleibt Brautkleid und Blaukraut bleibt Blaukraut.', 'Denen Dänen, denen Dänen Dänen dehnen, dehnen deren Dänen.', 'Einsame Esel essen nasse Nesseln gern, nasse Nesseln essen einsame Esel gern.', 'Der dicke Dachdecker deckt dir dein Dach. Drum dank dem Dachdecker, der dir dein Dach deckt.', 'Der Frosterfrosch frostet im Froschfroster, frostet der Frosterfrosch im Froschfroster? Im Froschfroster frostet der Frosterfrosch.', 'Fromme Frösche fressen frische Frühlingszwiebeln, aber freche Frösche fressen frische Früchte', 'Der Cottbusser Postkutscher putzt den Cottbusser Postkutschkasten. Den Cottbusser Postkutschkasten putzt der Cottbusser Postkutscher.', 'Es soll vorkommen, daß die Nachkommen mit dem Einkommen nicht mehr auskommen und dann vollkommen verkommen umkommen.', 'Auf den sieben Robbenklippen sitzen sieben Robbensippen, die sich in die Rippen stippen, bis sie von den Klippen kippen.', 'Das Schleimschwein schleimt schweinisch im Schleim, im Schleim schleimt schweinisch das Schleimschwein.', 'Wer nichts weiß und weiß, dass er nichts weiß, weiß mehr als der, der nichts weiß und nicht weiß, dass er nichts weiß.', 'Wir Wiener Wäscheweiber würden weiße Wäsche waschen, wenn wir wüssten, wo warmes, weiches Wasser wäre.', 'Vor Weihnachten wirbeln wunderschöne weiße Schneeflocken wie weiche wollige Watte über den Waldrand hinweg.', 'Zwischen zwei Zwetschgenzweigen sitzen zwei zechenschwarze tschechisch zwitschernde Zwergschwalben.', 'Geschwisterzwist zwischen Slivovic schlürfenden, spitzen, twistenden und schwitzenden Zwitscherschwestern.', 'Wenn Grillen Grillen grillen, grillen Grillen Grillen!', \"Herr von Hagen darf ich's wagen, sie zu fragen, welchen Kragen sie getragen, als sie lagen krank am Magen in der Stadt zu Kopenhagen.\"]\n"
     ]
    }
   ],
   "source": [
    "more_jokes = pyjokes.get_jokes(language = 'de', category = 'twister')\n",
    "print(more_jokes)"
   ]
  },
  {
   "cell_type": "markdown",
   "metadata": {},
   "source": [
    "### AI jokes generator\n",
    "Entirely based on the **Teaching AI to crack Jokes!** [post](https://www.linkedin.com/pulse/teaching-ai-crack-jokes-dattaraj-rao) by Dattaraj Rao. The code is copied in the cells below.\n",
    "\n",
    "#### My efforts in vain\n",
    "My intention was to run this generator here in this notebook. After several hours browsing, reading and trying I did not succeed in getting this done on my laptop under Windows 10. My actions were:\n",
    "* check for conda updates: `conda update conda`\n",
    "* install prerequisite `pytorch` as follows: `conda install pytorch -c pytorch` => version 1.7.1\n",
    "* install `torchvision` as follows: `conda install -c pytorch torchvision` => \n",
    "* from `anaconda prompt` installing `fastai` repeatedly failed: `conda -c fastai fastai`. \n",
    "* however installing `fastai` using `pip install fastai` succeeds => version 2.2.5\n",
    "\n",
    "Versions as retrieved from `anaconda prompt` using `conda list [name]`\n",
    "\n",
    "#### Google Colab\n",
    "As a compromise I decided to make an exact copy of Dattaraj Rao's solution on my Google Colab notebook. Only few comment is added. [This](https://colab.research.google.com/drive/1p-pXnaH4z0_v_sgrB1jTajCoZE2DVJbj?usp=sharing) is where you can run the code of the cells below.<br>At the end there's code to save the model to Google Drive. I did not succeed due to the long inactivity while saving."
   ]
  },
  {
   "cell_type": "code",
   "execution_count": null,
   "metadata": {},
   "outputs": [],
   "source": [
    "pip install fastai"
   ]
  },
  {
   "cell_type": "code",
   "execution_count": 13,
   "metadata": {},
   "outputs": [
    {
     "ename": "NameError",
     "evalue": "name 'TextList' is not defined",
     "output_type": "error",
     "traceback": [
      "\u001b[1;31m---------------------------------------------------------------------------\u001b[0m",
      "\u001b[1;31mNameError\u001b[0m                                 Traceback (most recent call last)",
      "\u001b[1;32m<ipython-input-13-e89580f37b18>\u001b[0m in \u001b[0;36m<module>\u001b[1;34m\u001b[0m\n\u001b[0;32m      1\u001b[0m \u001b[1;32mfrom\u001b[0m \u001b[0mfastai\u001b[0m\u001b[1;33m.\u001b[0m\u001b[0mtext\u001b[0m \u001b[1;32mimport\u001b[0m \u001b[1;33m*\u001b[0m\u001b[1;33m\u001b[0m\u001b[1;33m\u001b[0m\u001b[0m\n\u001b[1;32m----> 2\u001b[1;33m data = (TextList.from_df(df, cols='Joke')\n\u001b[0m\u001b[0;32m      3\u001b[0m \u001b[1;33m.\u001b[0m\u001b[0mrandom_split_by_pct\u001b[0m\u001b[1;33m(\u001b[0m\u001b[1;36m0.1\u001b[0m\u001b[1;33m)\u001b[0m\u001b[1;33m\u001b[0m\u001b[1;33m\u001b[0m\u001b[0m\n\u001b[0;32m      4\u001b[0m \u001b[1;33m.\u001b[0m\u001b[0mlabel_for_lm\u001b[0m\u001b[1;33m(\u001b[0m\u001b[1;33m)\u001b[0m\u001b[1;33m\u001b[0m\u001b[1;33m\u001b[0m\u001b[0m\n\u001b[0;32m      5\u001b[0m .databunch(bs=48))\n",
      "\u001b[1;31mNameError\u001b[0m: name 'TextList' is not defined"
     ]
    }
   ],
   "source": [
    "from fastai.text import *\n",
    "data = (TextList.from_df(df, cols='Joke')\n",
    ".random_split_by_pct(0.1)\n",
    ".label_for_lm()  \n",
    ".databunch(bs=48))"
   ]
  },
  {
   "cell_type": "code",
   "execution_count": null,
   "metadata": {},
   "outputs": [],
   "source": [
    "# create deep learning model using LSTM Architecture\n",
    "learn = language_model_learner(data, AWD_LSTM, drop_mult=0.3, model_dir = 'tmp/work')\n",
    "\n",
    "\n",
    "# find the appropriate learning rate\n",
    "learn.lr_find()\n",
    "\n",
    "\n",
    "learn.recorder.plot(skip_end=15)"
   ]
  },
  {
   "cell_type": "code",
   "execution_count": null,
   "metadata": {},
   "outputs": [],
   "source": [
    "# Fit the model based on selected learning rate\n",
    "learn.fit_one_cycle(1, 0.075)"
   ]
  },
  {
   "cell_type": "code",
   "execution_count": null,
   "metadata": {},
   "outputs": [],
   "source": [
    "# we will predict next N words\n",
    "N_WORDS = 200\n",
    "\n",
    "# make the prediction\n",
    "jokes = learn.predict(\"\", N_WORDS, temperature=0.8)\n",
    "\n",
    "# xxbos is the seperator for data\n",
    "jokes = jokes.split('xxbos')\n",
    "\n",
    "# show the predicted jokes\n",
    "print('\\n'.join(jokes))"
   ]
  }
 ],
 "metadata": {
  "kernelspec": {
   "display_name": "Python 3",
   "language": "python",
   "name": "python3"
  },
  "language_info": {
   "codemirror_mode": {
    "name": "ipython",
    "version": 3
   },
   "file_extension": ".py",
   "mimetype": "text/x-python",
   "name": "python",
   "nbconvert_exporter": "python",
   "pygments_lexer": "ipython3",
   "version": "3.8.3"
  }
 },
 "nbformat": 4,
 "nbformat_minor": 4
}
